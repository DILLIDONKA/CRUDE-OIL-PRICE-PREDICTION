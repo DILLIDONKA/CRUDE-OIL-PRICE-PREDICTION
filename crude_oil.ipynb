{
  "cells": [
    {
      "cell_type": "code",
      "execution_count": 265,
      "metadata": {
        "id": "P5AsLgzRQ0cr"
      },
      "outputs": [],
      "source": [
        "import pandas as pd"
      ]
    },
    {
      "cell_type": "code",
      "execution_count": 266,
      "metadata": {
        "colab": {
          "base_uri": "https://localhost:8080/",
          "height": 423
        },
        "id": "w0XwS9RWQ30E",
        "outputId": "fbe8d19f-e8d2-45c3-9053-4ab25d30e638"
      },
      "outputs": [
        {
          "output_type": "execute_result",
          "data": {
            "text/plain": [
              "              Date    Open    High     Low  Close*  Adj Close**   Volume\n",
              "0     Jul 01, 2022  106.01  109.34  104.56  108.43       108.43  305,338\n",
              "1     Jun 30, 2022  109.70  110.45  105.10  105.76       105.76  362,890\n",
              "2     Jun 29, 2022  111.86  114.05  109.22  109.78       109.78  322,060\n",
              "3     Jun 28, 2022  110.18  112.22  109.62  111.76       111.76  306,748\n",
              "4     Jun 27, 2022  107.22  110.54  105.60  109.57       109.57  282,914\n",
              "...            ...     ...     ...     ...     ...          ...      ...\n",
              "5024  Jul 09, 2002   25.87   26.20   25.73   26.09        26.09   84,852\n",
              "5025  Jul 08, 2002   26.25   26.86   25.90   26.07        26.07   75,606\n",
              "5026  Jul 03, 2002   26.68   26.95   26.38   26.80        26.80   62,869\n",
              "5027  Jul 02, 2002   27.00   27.15   26.63   26.77        26.77   64,641\n",
              "5028  Jul 01, 2002   26.80   27.15   26.61   26.81        26.81   43,853\n",
              "\n",
              "[5029 rows x 7 columns]"
            ],
            "text/html": [
              "\n",
              "  <div id=\"df-d2fe6da9-b86d-4041-8a5b-a3915ccfd507\">\n",
              "    <div class=\"colab-df-container\">\n",
              "      <div>\n",
              "<style scoped>\n",
              "    .dataframe tbody tr th:only-of-type {\n",
              "        vertical-align: middle;\n",
              "    }\n",
              "\n",
              "    .dataframe tbody tr th {\n",
              "        vertical-align: top;\n",
              "    }\n",
              "\n",
              "    .dataframe thead th {\n",
              "        text-align: right;\n",
              "    }\n",
              "</style>\n",
              "<table border=\"1\" class=\"dataframe\">\n",
              "  <thead>\n",
              "    <tr style=\"text-align: right;\">\n",
              "      <th></th>\n",
              "      <th>Date</th>\n",
              "      <th>Open</th>\n",
              "      <th>High</th>\n",
              "      <th>Low</th>\n",
              "      <th>Close*</th>\n",
              "      <th>Adj Close**</th>\n",
              "      <th>Volume</th>\n",
              "    </tr>\n",
              "  </thead>\n",
              "  <tbody>\n",
              "    <tr>\n",
              "      <th>0</th>\n",
              "      <td>Jul 01, 2022</td>\n",
              "      <td>106.01</td>\n",
              "      <td>109.34</td>\n",
              "      <td>104.56</td>\n",
              "      <td>108.43</td>\n",
              "      <td>108.43</td>\n",
              "      <td>305,338</td>\n",
              "    </tr>\n",
              "    <tr>\n",
              "      <th>1</th>\n",
              "      <td>Jun 30, 2022</td>\n",
              "      <td>109.70</td>\n",
              "      <td>110.45</td>\n",
              "      <td>105.10</td>\n",
              "      <td>105.76</td>\n",
              "      <td>105.76</td>\n",
              "      <td>362,890</td>\n",
              "    </tr>\n",
              "    <tr>\n",
              "      <th>2</th>\n",
              "      <td>Jun 29, 2022</td>\n",
              "      <td>111.86</td>\n",
              "      <td>114.05</td>\n",
              "      <td>109.22</td>\n",
              "      <td>109.78</td>\n",
              "      <td>109.78</td>\n",
              "      <td>322,060</td>\n",
              "    </tr>\n",
              "    <tr>\n",
              "      <th>3</th>\n",
              "      <td>Jun 28, 2022</td>\n",
              "      <td>110.18</td>\n",
              "      <td>112.22</td>\n",
              "      <td>109.62</td>\n",
              "      <td>111.76</td>\n",
              "      <td>111.76</td>\n",
              "      <td>306,748</td>\n",
              "    </tr>\n",
              "    <tr>\n",
              "      <th>4</th>\n",
              "      <td>Jun 27, 2022</td>\n",
              "      <td>107.22</td>\n",
              "      <td>110.54</td>\n",
              "      <td>105.60</td>\n",
              "      <td>109.57</td>\n",
              "      <td>109.57</td>\n",
              "      <td>282,914</td>\n",
              "    </tr>\n",
              "    <tr>\n",
              "      <th>...</th>\n",
              "      <td>...</td>\n",
              "      <td>...</td>\n",
              "      <td>...</td>\n",
              "      <td>...</td>\n",
              "      <td>...</td>\n",
              "      <td>...</td>\n",
              "      <td>...</td>\n",
              "    </tr>\n",
              "    <tr>\n",
              "      <th>5024</th>\n",
              "      <td>Jul 09, 2002</td>\n",
              "      <td>25.87</td>\n",
              "      <td>26.20</td>\n",
              "      <td>25.73</td>\n",
              "      <td>26.09</td>\n",
              "      <td>26.09</td>\n",
              "      <td>84,852</td>\n",
              "    </tr>\n",
              "    <tr>\n",
              "      <th>5025</th>\n",
              "      <td>Jul 08, 2002</td>\n",
              "      <td>26.25</td>\n",
              "      <td>26.86</td>\n",
              "      <td>25.90</td>\n",
              "      <td>26.07</td>\n",
              "      <td>26.07</td>\n",
              "      <td>75,606</td>\n",
              "    </tr>\n",
              "    <tr>\n",
              "      <th>5026</th>\n",
              "      <td>Jul 03, 2002</td>\n",
              "      <td>26.68</td>\n",
              "      <td>26.95</td>\n",
              "      <td>26.38</td>\n",
              "      <td>26.80</td>\n",
              "      <td>26.80</td>\n",
              "      <td>62,869</td>\n",
              "    </tr>\n",
              "    <tr>\n",
              "      <th>5027</th>\n",
              "      <td>Jul 02, 2002</td>\n",
              "      <td>27.00</td>\n",
              "      <td>27.15</td>\n",
              "      <td>26.63</td>\n",
              "      <td>26.77</td>\n",
              "      <td>26.77</td>\n",
              "      <td>64,641</td>\n",
              "    </tr>\n",
              "    <tr>\n",
              "      <th>5028</th>\n",
              "      <td>Jul 01, 2002</td>\n",
              "      <td>26.80</td>\n",
              "      <td>27.15</td>\n",
              "      <td>26.61</td>\n",
              "      <td>26.81</td>\n",
              "      <td>26.81</td>\n",
              "      <td>43,853</td>\n",
              "    </tr>\n",
              "  </tbody>\n",
              "</table>\n",
              "<p>5029 rows × 7 columns</p>\n",
              "</div>\n",
              "      <button class=\"colab-df-convert\" onclick=\"convertToInteractive('df-d2fe6da9-b86d-4041-8a5b-a3915ccfd507')\"\n",
              "              title=\"Convert this dataframe to an interactive table.\"\n",
              "              style=\"display:none;\">\n",
              "        \n",
              "  <svg xmlns=\"http://www.w3.org/2000/svg\" height=\"24px\"viewBox=\"0 0 24 24\"\n",
              "       width=\"24px\">\n",
              "    <path d=\"M0 0h24v24H0V0z\" fill=\"none\"/>\n",
              "    <path d=\"M18.56 5.44l.94 2.06.94-2.06 2.06-.94-2.06-.94-.94-2.06-.94 2.06-2.06.94zm-11 1L8.5 8.5l.94-2.06 2.06-.94-2.06-.94L8.5 2.5l-.94 2.06-2.06.94zm10 10l.94 2.06.94-2.06 2.06-.94-2.06-.94-.94-2.06-.94 2.06-2.06.94z\"/><path d=\"M17.41 7.96l-1.37-1.37c-.4-.4-.92-.59-1.43-.59-.52 0-1.04.2-1.43.59L10.3 9.45l-7.72 7.72c-.78.78-.78 2.05 0 2.83L4 21.41c.39.39.9.59 1.41.59.51 0 1.02-.2 1.41-.59l7.78-7.78 2.81-2.81c.8-.78.8-2.07 0-2.86zM5.41 20L4 18.59l7.72-7.72 1.47 1.35L5.41 20z\"/>\n",
              "  </svg>\n",
              "      </button>\n",
              "      \n",
              "  <style>\n",
              "    .colab-df-container {\n",
              "      display:flex;\n",
              "      flex-wrap:wrap;\n",
              "      gap: 12px;\n",
              "    }\n",
              "\n",
              "    .colab-df-convert {\n",
              "      background-color: #E8F0FE;\n",
              "      border: none;\n",
              "      border-radius: 50%;\n",
              "      cursor: pointer;\n",
              "      display: none;\n",
              "      fill: #1967D2;\n",
              "      height: 32px;\n",
              "      padding: 0 0 0 0;\n",
              "      width: 32px;\n",
              "    }\n",
              "\n",
              "    .colab-df-convert:hover {\n",
              "      background-color: #E2EBFA;\n",
              "      box-shadow: 0px 1px 2px rgba(60, 64, 67, 0.3), 0px 1px 3px 1px rgba(60, 64, 67, 0.15);\n",
              "      fill: #174EA6;\n",
              "    }\n",
              "\n",
              "    [theme=dark] .colab-df-convert {\n",
              "      background-color: #3B4455;\n",
              "      fill: #D2E3FC;\n",
              "    }\n",
              "\n",
              "    [theme=dark] .colab-df-convert:hover {\n",
              "      background-color: #434B5C;\n",
              "      box-shadow: 0px 1px 3px 1px rgba(0, 0, 0, 0.15);\n",
              "      filter: drop-shadow(0px 1px 2px rgba(0, 0, 0, 0.3));\n",
              "      fill: #FFFFFF;\n",
              "    }\n",
              "  </style>\n",
              "\n",
              "      <script>\n",
              "        const buttonEl =\n",
              "          document.querySelector('#df-d2fe6da9-b86d-4041-8a5b-a3915ccfd507 button.colab-df-convert');\n",
              "        buttonEl.style.display =\n",
              "          google.colab.kernel.accessAllowed ? 'block' : 'none';\n",
              "\n",
              "        async function convertToInteractive(key) {\n",
              "          const element = document.querySelector('#df-d2fe6da9-b86d-4041-8a5b-a3915ccfd507');\n",
              "          const dataTable =\n",
              "            await google.colab.kernel.invokeFunction('convertToInteractive',\n",
              "                                                     [key], {});\n",
              "          if (!dataTable) return;\n",
              "\n",
              "          const docLinkHtml = 'Like what you see? Visit the ' +\n",
              "            '<a target=\"_blank\" href=https://colab.research.google.com/notebooks/data_table.ipynb>data table notebook</a>'\n",
              "            + ' to learn more about interactive tables.';\n",
              "          element.innerHTML = '';\n",
              "          dataTable['output_type'] = 'display_data';\n",
              "          await google.colab.output.renderOutput(dataTable, element);\n",
              "          const docLink = document.createElement('div');\n",
              "          docLink.innerHTML = docLinkHtml;\n",
              "          element.appendChild(docLink);\n",
              "        }\n",
              "      </script>\n",
              "    </div>\n",
              "  </div>\n",
              "  "
            ]
          },
          "metadata": {},
          "execution_count": 266
        }
      ],
      "source": [
        "\n",
        "df = pd. read_csv('https://raw.githubusercontent.com/DILLIDONKA/dsp-project/main/CrudeOil.csv')\n",
        "df"
      ]
    },
    {
      "cell_type": "code",
      "execution_count": 267,
      "metadata": {
        "id": "wIpzTTzcTiqc",
        "colab": {
          "base_uri": "https://localhost:8080/"
        },
        "outputId": "4ad6c7b4-10ec-43d9-db2c-c02d9b96808d"
      },
      "outputs": [
        {
          "output_type": "execute_result",
          "data": {
            "text/plain": [
              "<bound method NDFrame.describe of               Date    Open    High     Low  Close*  Adj Close**   Volume\n",
              "0     Jul 01, 2022  106.01  109.34  104.56  108.43       108.43  305,338\n",
              "1     Jun 30, 2022  109.70  110.45  105.10  105.76       105.76  362,890\n",
              "2     Jun 29, 2022  111.86  114.05  109.22  109.78       109.78  322,060\n",
              "3     Jun 28, 2022  110.18  112.22  109.62  111.76       111.76  306,748\n",
              "4     Jun 27, 2022  107.22  110.54  105.60  109.57       109.57  282,914\n",
              "...            ...     ...     ...     ...     ...          ...      ...\n",
              "5024  Jul 09, 2002   25.87   26.20   25.73   26.09        26.09   84,852\n",
              "5025  Jul 08, 2002   26.25   26.86   25.90   26.07        26.07   75,606\n",
              "5026  Jul 03, 2002   26.68   26.95   26.38   26.80        26.80   62,869\n",
              "5027  Jul 02, 2002   27.00   27.15   26.63   26.77        26.77   64,641\n",
              "5028  Jul 01, 2002   26.80   27.15   26.61   26.81        26.81   43,853\n",
              "\n",
              "[5029 rows x 7 columns]>"
            ]
          },
          "metadata": {},
          "execution_count": 267
        }
      ],
      "source": [
        "df.describe"
      ]
    },
    {
      "cell_type": "code",
      "execution_count": 268,
      "metadata": {
        "colab": {
          "base_uri": "https://localhost:8080/",
          "height": 423
        },
        "id": "0pynfebRcabF",
        "outputId": "8404f891-f1c3-4f9e-eeca-43bdc916d552"
      },
      "outputs": [
        {
          "output_type": "execute_result",
          "data": {
            "text/plain": [
              "              Date    Open    High     Low  Close*   Volume\n",
              "0     Jul 01, 2022  106.01  109.34  104.56  108.43  305,338\n",
              "1     Jun 30, 2022  109.70  110.45  105.10  105.76  362,890\n",
              "2     Jun 29, 2022  111.86  114.05  109.22  109.78  322,060\n",
              "3     Jun 28, 2022  110.18  112.22  109.62  111.76  306,748\n",
              "4     Jun 27, 2022  107.22  110.54  105.60  109.57  282,914\n",
              "...            ...     ...     ...     ...     ...      ...\n",
              "5024  Jul 09, 2002   25.87   26.20   25.73   26.09   84,852\n",
              "5025  Jul 08, 2002   26.25   26.86   25.90   26.07   75,606\n",
              "5026  Jul 03, 2002   26.68   26.95   26.38   26.80   62,869\n",
              "5027  Jul 02, 2002   27.00   27.15   26.63   26.77   64,641\n",
              "5028  Jul 01, 2002   26.80   27.15   26.61   26.81   43,853\n",
              "\n",
              "[5029 rows x 6 columns]"
            ],
            "text/html": [
              "\n",
              "  <div id=\"df-15e3b05a-a045-4255-ad84-e953462105f7\">\n",
              "    <div class=\"colab-df-container\">\n",
              "      <div>\n",
              "<style scoped>\n",
              "    .dataframe tbody tr th:only-of-type {\n",
              "        vertical-align: middle;\n",
              "    }\n",
              "\n",
              "    .dataframe tbody tr th {\n",
              "        vertical-align: top;\n",
              "    }\n",
              "\n",
              "    .dataframe thead th {\n",
              "        text-align: right;\n",
              "    }\n",
              "</style>\n",
              "<table border=\"1\" class=\"dataframe\">\n",
              "  <thead>\n",
              "    <tr style=\"text-align: right;\">\n",
              "      <th></th>\n",
              "      <th>Date</th>\n",
              "      <th>Open</th>\n",
              "      <th>High</th>\n",
              "      <th>Low</th>\n",
              "      <th>Close*</th>\n",
              "      <th>Volume</th>\n",
              "    </tr>\n",
              "  </thead>\n",
              "  <tbody>\n",
              "    <tr>\n",
              "      <th>0</th>\n",
              "      <td>Jul 01, 2022</td>\n",
              "      <td>106.01</td>\n",
              "      <td>109.34</td>\n",
              "      <td>104.56</td>\n",
              "      <td>108.43</td>\n",
              "      <td>305,338</td>\n",
              "    </tr>\n",
              "    <tr>\n",
              "      <th>1</th>\n",
              "      <td>Jun 30, 2022</td>\n",
              "      <td>109.70</td>\n",
              "      <td>110.45</td>\n",
              "      <td>105.10</td>\n",
              "      <td>105.76</td>\n",
              "      <td>362,890</td>\n",
              "    </tr>\n",
              "    <tr>\n",
              "      <th>2</th>\n",
              "      <td>Jun 29, 2022</td>\n",
              "      <td>111.86</td>\n",
              "      <td>114.05</td>\n",
              "      <td>109.22</td>\n",
              "      <td>109.78</td>\n",
              "      <td>322,060</td>\n",
              "    </tr>\n",
              "    <tr>\n",
              "      <th>3</th>\n",
              "      <td>Jun 28, 2022</td>\n",
              "      <td>110.18</td>\n",
              "      <td>112.22</td>\n",
              "      <td>109.62</td>\n",
              "      <td>111.76</td>\n",
              "      <td>306,748</td>\n",
              "    </tr>\n",
              "    <tr>\n",
              "      <th>4</th>\n",
              "      <td>Jun 27, 2022</td>\n",
              "      <td>107.22</td>\n",
              "      <td>110.54</td>\n",
              "      <td>105.60</td>\n",
              "      <td>109.57</td>\n",
              "      <td>282,914</td>\n",
              "    </tr>\n",
              "    <tr>\n",
              "      <th>...</th>\n",
              "      <td>...</td>\n",
              "      <td>...</td>\n",
              "      <td>...</td>\n",
              "      <td>...</td>\n",
              "      <td>...</td>\n",
              "      <td>...</td>\n",
              "    </tr>\n",
              "    <tr>\n",
              "      <th>5024</th>\n",
              "      <td>Jul 09, 2002</td>\n",
              "      <td>25.87</td>\n",
              "      <td>26.20</td>\n",
              "      <td>25.73</td>\n",
              "      <td>26.09</td>\n",
              "      <td>84,852</td>\n",
              "    </tr>\n",
              "    <tr>\n",
              "      <th>5025</th>\n",
              "      <td>Jul 08, 2002</td>\n",
              "      <td>26.25</td>\n",
              "      <td>26.86</td>\n",
              "      <td>25.90</td>\n",
              "      <td>26.07</td>\n",
              "      <td>75,606</td>\n",
              "    </tr>\n",
              "    <tr>\n",
              "      <th>5026</th>\n",
              "      <td>Jul 03, 2002</td>\n",
              "      <td>26.68</td>\n",
              "      <td>26.95</td>\n",
              "      <td>26.38</td>\n",
              "      <td>26.80</td>\n",
              "      <td>62,869</td>\n",
              "    </tr>\n",
              "    <tr>\n",
              "      <th>5027</th>\n",
              "      <td>Jul 02, 2002</td>\n",
              "      <td>27.00</td>\n",
              "      <td>27.15</td>\n",
              "      <td>26.63</td>\n",
              "      <td>26.77</td>\n",
              "      <td>64,641</td>\n",
              "    </tr>\n",
              "    <tr>\n",
              "      <th>5028</th>\n",
              "      <td>Jul 01, 2002</td>\n",
              "      <td>26.80</td>\n",
              "      <td>27.15</td>\n",
              "      <td>26.61</td>\n",
              "      <td>26.81</td>\n",
              "      <td>43,853</td>\n",
              "    </tr>\n",
              "  </tbody>\n",
              "</table>\n",
              "<p>5029 rows × 6 columns</p>\n",
              "</div>\n",
              "      <button class=\"colab-df-convert\" onclick=\"convertToInteractive('df-15e3b05a-a045-4255-ad84-e953462105f7')\"\n",
              "              title=\"Convert this dataframe to an interactive table.\"\n",
              "              style=\"display:none;\">\n",
              "        \n",
              "  <svg xmlns=\"http://www.w3.org/2000/svg\" height=\"24px\"viewBox=\"0 0 24 24\"\n",
              "       width=\"24px\">\n",
              "    <path d=\"M0 0h24v24H0V0z\" fill=\"none\"/>\n",
              "    <path d=\"M18.56 5.44l.94 2.06.94-2.06 2.06-.94-2.06-.94-.94-2.06-.94 2.06-2.06.94zm-11 1L8.5 8.5l.94-2.06 2.06-.94-2.06-.94L8.5 2.5l-.94 2.06-2.06.94zm10 10l.94 2.06.94-2.06 2.06-.94-2.06-.94-.94-2.06-.94 2.06-2.06.94z\"/><path d=\"M17.41 7.96l-1.37-1.37c-.4-.4-.92-.59-1.43-.59-.52 0-1.04.2-1.43.59L10.3 9.45l-7.72 7.72c-.78.78-.78 2.05 0 2.83L4 21.41c.39.39.9.59 1.41.59.51 0 1.02-.2 1.41-.59l7.78-7.78 2.81-2.81c.8-.78.8-2.07 0-2.86zM5.41 20L4 18.59l7.72-7.72 1.47 1.35L5.41 20z\"/>\n",
              "  </svg>\n",
              "      </button>\n",
              "      \n",
              "  <style>\n",
              "    .colab-df-container {\n",
              "      display:flex;\n",
              "      flex-wrap:wrap;\n",
              "      gap: 12px;\n",
              "    }\n",
              "\n",
              "    .colab-df-convert {\n",
              "      background-color: #E8F0FE;\n",
              "      border: none;\n",
              "      border-radius: 50%;\n",
              "      cursor: pointer;\n",
              "      display: none;\n",
              "      fill: #1967D2;\n",
              "      height: 32px;\n",
              "      padding: 0 0 0 0;\n",
              "      width: 32px;\n",
              "    }\n",
              "\n",
              "    .colab-df-convert:hover {\n",
              "      background-color: #E2EBFA;\n",
              "      box-shadow: 0px 1px 2px rgba(60, 64, 67, 0.3), 0px 1px 3px 1px rgba(60, 64, 67, 0.15);\n",
              "      fill: #174EA6;\n",
              "    }\n",
              "\n",
              "    [theme=dark] .colab-df-convert {\n",
              "      background-color: #3B4455;\n",
              "      fill: #D2E3FC;\n",
              "    }\n",
              "\n",
              "    [theme=dark] .colab-df-convert:hover {\n",
              "      background-color: #434B5C;\n",
              "      box-shadow: 0px 1px 3px 1px rgba(0, 0, 0, 0.15);\n",
              "      filter: drop-shadow(0px 1px 2px rgba(0, 0, 0, 0.3));\n",
              "      fill: #FFFFFF;\n",
              "    }\n",
              "  </style>\n",
              "\n",
              "      <script>\n",
              "        const buttonEl =\n",
              "          document.querySelector('#df-15e3b05a-a045-4255-ad84-e953462105f7 button.colab-df-convert');\n",
              "        buttonEl.style.display =\n",
              "          google.colab.kernel.accessAllowed ? 'block' : 'none';\n",
              "\n",
              "        async function convertToInteractive(key) {\n",
              "          const element = document.querySelector('#df-15e3b05a-a045-4255-ad84-e953462105f7');\n",
              "          const dataTable =\n",
              "            await google.colab.kernel.invokeFunction('convertToInteractive',\n",
              "                                                     [key], {});\n",
              "          if (!dataTable) return;\n",
              "\n",
              "          const docLinkHtml = 'Like what you see? Visit the ' +\n",
              "            '<a target=\"_blank\" href=https://colab.research.google.com/notebooks/data_table.ipynb>data table notebook</a>'\n",
              "            + ' to learn more about interactive tables.';\n",
              "          element.innerHTML = '';\n",
              "          dataTable['output_type'] = 'display_data';\n",
              "          await google.colab.output.renderOutput(dataTable, element);\n",
              "          const docLink = document.createElement('div');\n",
              "          docLink.innerHTML = docLinkHtml;\n",
              "          element.appendChild(docLink);\n",
              "        }\n",
              "      </script>\n",
              "    </div>\n",
              "  </div>\n",
              "  "
            ]
          },
          "metadata": {},
          "execution_count": 268
        }
      ],
      "source": [
        "df.drop('Adj Close**',axis=1,inplace=True)\n",
        "df"
      ]
    },
    {
      "cell_type": "code",
      "execution_count": 269,
      "metadata": {
        "colab": {
          "base_uri": "https://localhost:8080/"
        },
        "id": "a64r8qK7Zk8E",
        "outputId": "a60bd2a4-f4e0-48f4-db04-007913596d9a"
      },
      "outputs": [
        {
          "output_type": "execute_result",
          "data": {
            "text/plain": [
              "(5029, 6)"
            ]
          },
          "metadata": {},
          "execution_count": 269
        }
      ],
      "source": [
        "df. shape"
      ]
    },
    {
      "cell_type": "code",
      "source": [
        "df.duplicated()"
      ],
      "metadata": {
        "colab": {
          "base_uri": "https://localhost:8080/"
        },
        "id": "ZSbog_e8watE",
        "outputId": "6a65475d-3f4b-461b-b479-2fc9c842e426"
      },
      "execution_count": 270,
      "outputs": [
        {
          "output_type": "execute_result",
          "data": {
            "text/plain": [
              "0       False\n",
              "1       False\n",
              "2       False\n",
              "3       False\n",
              "4       False\n",
              "        ...  \n",
              "5024    False\n",
              "5025    False\n",
              "5026    False\n",
              "5027    False\n",
              "5028    False\n",
              "Length: 5029, dtype: bool"
            ]
          },
          "metadata": {},
          "execution_count": 270
        }
      ]
    },
    {
      "cell_type": "code",
      "source": [
        "df.duplicated().sum()"
      ],
      "metadata": {
        "colab": {
          "base_uri": "https://localhost:8080/"
        },
        "id": "OZtCv_a3yZ1_",
        "outputId": "2826c327-f711-46de-87df-b6327ede8817"
      },
      "execution_count": 271,
      "outputs": [
        {
          "output_type": "execute_result",
          "data": {
            "text/plain": [
              "0"
            ]
          },
          "metadata": {},
          "execution_count": 271
        }
      ]
    },
    {
      "cell_type": "code",
      "execution_count": 272,
      "metadata": {
        "id": "FVm8E0vyZmIL",
        "colab": {
          "base_uri": "https://localhost:8080/"
        },
        "outputId": "371e5177-33b7-48ab-d273-be4ab8abb4e3"
      },
      "outputs": [
        {
          "output_type": "execute_result",
          "data": {
            "text/plain": [
              "array([['Jul 01, 2022', 106.01, 109.34, 104.56, 108.43, '305,338'],\n",
              "       ['Jun 30, 2022', 109.7, 110.45, 105.1, 105.76, '362,890'],\n",
              "       ['Jun 29, 2022', 111.86, 114.05, 109.22, 109.78, '322,060'],\n",
              "       ...,\n",
              "       ['Jul 03, 2002', 26.68, 26.95, 26.38, 26.8, '62,869'],\n",
              "       ['Jul 02, 2002', 27.0, 27.15, 26.63, 26.77, '64,641'],\n",
              "       ['Jul 01, 2002', 26.8, 27.15, 26.61, 26.81, '43,853']],\n",
              "      dtype=object)"
            ]
          },
          "metadata": {},
          "execution_count": 272
        }
      ],
      "source": [
        "df. values"
      ]
    },
    {
      "cell_type": "code",
      "execution_count": 273,
      "metadata": {
        "id": "hwtIuuD3ZnLF",
        "colab": {
          "base_uri": "https://localhost:8080/"
        },
        "outputId": "6b539d09-71f1-4450-d966-396cf65197d8"
      },
      "outputs": [
        {
          "output_type": "execute_result",
          "data": {
            "text/plain": [
              "Date       object\n",
              "Open      float64\n",
              "High      float64\n",
              "Low       float64\n",
              "Close*    float64\n",
              "Volume     object\n",
              "dtype: object"
            ]
          },
          "metadata": {},
          "execution_count": 273
        }
      ],
      "source": [
        "df.dtypes"
      ]
    },
    {
      "cell_type": "code",
      "source": [
        "df.info()"
      ],
      "metadata": {
        "colab": {
          "base_uri": "https://localhost:8080/"
        },
        "id": "t6efkvpcFb3s",
        "outputId": "f3894e80-71f3-4a4d-f09f-448c71590834"
      },
      "execution_count": 274,
      "outputs": [
        {
          "output_type": "stream",
          "name": "stdout",
          "text": [
            "<class 'pandas.core.frame.DataFrame'>\n",
            "RangeIndex: 5029 entries, 0 to 5028\n",
            "Data columns (total 6 columns):\n",
            " #   Column  Non-Null Count  Dtype  \n",
            "---  ------  --------------  -----  \n",
            " 0   Date    5029 non-null   object \n",
            " 1   Open    5029 non-null   float64\n",
            " 2   High    5029 non-null   float64\n",
            " 3   Low     5029 non-null   float64\n",
            " 4   Close*  5029 non-null   float64\n",
            " 5   Volume  5029 non-null   object \n",
            "dtypes: float64(4), object(2)\n",
            "memory usage: 235.9+ KB\n"
          ]
        }
      ]
    },
    {
      "cell_type": "code",
      "execution_count": 275,
      "metadata": {
        "id": "p_fufuF4ZqJM",
        "colab": {
          "base_uri": "https://localhost:8080/",
          "height": 423
        },
        "outputId": "bf1793fa-6da1-4a42-98a0-c8aed48d806a"
      },
      "outputs": [
        {
          "output_type": "execute_result",
          "data": {
            "text/plain": [
              "              Date    Open    High     Low  Close*    Volume\n",
              "0     Jul 01, 2022  106.01  109.34  104.56  108.43  305338.0\n",
              "1     Jun 30, 2022  109.70  110.45  105.10  105.76  362890.0\n",
              "2     Jun 29, 2022  111.86  114.05  109.22  109.78  322060.0\n",
              "3     Jun 28, 2022  110.18  112.22  109.62  111.76  306748.0\n",
              "4     Jun 27, 2022  107.22  110.54  105.60  109.57  282914.0\n",
              "...            ...     ...     ...     ...     ...       ...\n",
              "5024  Jul 09, 2002   25.87   26.20   25.73   26.09   84852.0\n",
              "5025  Jul 08, 2002   26.25   26.86   25.90   26.07   75606.0\n",
              "5026  Jul 03, 2002   26.68   26.95   26.38   26.80   62869.0\n",
              "5027  Jul 02, 2002   27.00   27.15   26.63   26.77   64641.0\n",
              "5028  Jul 01, 2002   26.80   27.15   26.61   26.81   43853.0\n",
              "\n",
              "[5029 rows x 6 columns]"
            ],
            "text/html": [
              "\n",
              "  <div id=\"df-4e39dfc0-c796-4272-9ebc-c144148e0f63\">\n",
              "    <div class=\"colab-df-container\">\n",
              "      <div>\n",
              "<style scoped>\n",
              "    .dataframe tbody tr th:only-of-type {\n",
              "        vertical-align: middle;\n",
              "    }\n",
              "\n",
              "    .dataframe tbody tr th {\n",
              "        vertical-align: top;\n",
              "    }\n",
              "\n",
              "    .dataframe thead th {\n",
              "        text-align: right;\n",
              "    }\n",
              "</style>\n",
              "<table border=\"1\" class=\"dataframe\">\n",
              "  <thead>\n",
              "    <tr style=\"text-align: right;\">\n",
              "      <th></th>\n",
              "      <th>Date</th>\n",
              "      <th>Open</th>\n",
              "      <th>High</th>\n",
              "      <th>Low</th>\n",
              "      <th>Close*</th>\n",
              "      <th>Volume</th>\n",
              "    </tr>\n",
              "  </thead>\n",
              "  <tbody>\n",
              "    <tr>\n",
              "      <th>0</th>\n",
              "      <td>Jul 01, 2022</td>\n",
              "      <td>106.01</td>\n",
              "      <td>109.34</td>\n",
              "      <td>104.56</td>\n",
              "      <td>108.43</td>\n",
              "      <td>305338.0</td>\n",
              "    </tr>\n",
              "    <tr>\n",
              "      <th>1</th>\n",
              "      <td>Jun 30, 2022</td>\n",
              "      <td>109.70</td>\n",
              "      <td>110.45</td>\n",
              "      <td>105.10</td>\n",
              "      <td>105.76</td>\n",
              "      <td>362890.0</td>\n",
              "    </tr>\n",
              "    <tr>\n",
              "      <th>2</th>\n",
              "      <td>Jun 29, 2022</td>\n",
              "      <td>111.86</td>\n",
              "      <td>114.05</td>\n",
              "      <td>109.22</td>\n",
              "      <td>109.78</td>\n",
              "      <td>322060.0</td>\n",
              "    </tr>\n",
              "    <tr>\n",
              "      <th>3</th>\n",
              "      <td>Jun 28, 2022</td>\n",
              "      <td>110.18</td>\n",
              "      <td>112.22</td>\n",
              "      <td>109.62</td>\n",
              "      <td>111.76</td>\n",
              "      <td>306748.0</td>\n",
              "    </tr>\n",
              "    <tr>\n",
              "      <th>4</th>\n",
              "      <td>Jun 27, 2022</td>\n",
              "      <td>107.22</td>\n",
              "      <td>110.54</td>\n",
              "      <td>105.60</td>\n",
              "      <td>109.57</td>\n",
              "      <td>282914.0</td>\n",
              "    </tr>\n",
              "    <tr>\n",
              "      <th>...</th>\n",
              "      <td>...</td>\n",
              "      <td>...</td>\n",
              "      <td>...</td>\n",
              "      <td>...</td>\n",
              "      <td>...</td>\n",
              "      <td>...</td>\n",
              "    </tr>\n",
              "    <tr>\n",
              "      <th>5024</th>\n",
              "      <td>Jul 09, 2002</td>\n",
              "      <td>25.87</td>\n",
              "      <td>26.20</td>\n",
              "      <td>25.73</td>\n",
              "      <td>26.09</td>\n",
              "      <td>84852.0</td>\n",
              "    </tr>\n",
              "    <tr>\n",
              "      <th>5025</th>\n",
              "      <td>Jul 08, 2002</td>\n",
              "      <td>26.25</td>\n",
              "      <td>26.86</td>\n",
              "      <td>25.90</td>\n",
              "      <td>26.07</td>\n",
              "      <td>75606.0</td>\n",
              "    </tr>\n",
              "    <tr>\n",
              "      <th>5026</th>\n",
              "      <td>Jul 03, 2002</td>\n",
              "      <td>26.68</td>\n",
              "      <td>26.95</td>\n",
              "      <td>26.38</td>\n",
              "      <td>26.80</td>\n",
              "      <td>62869.0</td>\n",
              "    </tr>\n",
              "    <tr>\n",
              "      <th>5027</th>\n",
              "      <td>Jul 02, 2002</td>\n",
              "      <td>27.00</td>\n",
              "      <td>27.15</td>\n",
              "      <td>26.63</td>\n",
              "      <td>26.77</td>\n",
              "      <td>64641.0</td>\n",
              "    </tr>\n",
              "    <tr>\n",
              "      <th>5028</th>\n",
              "      <td>Jul 01, 2002</td>\n",
              "      <td>26.80</td>\n",
              "      <td>27.15</td>\n",
              "      <td>26.61</td>\n",
              "      <td>26.81</td>\n",
              "      <td>43853.0</td>\n",
              "    </tr>\n",
              "  </tbody>\n",
              "</table>\n",
              "<p>5029 rows × 6 columns</p>\n",
              "</div>\n",
              "      <button class=\"colab-df-convert\" onclick=\"convertToInteractive('df-4e39dfc0-c796-4272-9ebc-c144148e0f63')\"\n",
              "              title=\"Convert this dataframe to an interactive table.\"\n",
              "              style=\"display:none;\">\n",
              "        \n",
              "  <svg xmlns=\"http://www.w3.org/2000/svg\" height=\"24px\"viewBox=\"0 0 24 24\"\n",
              "       width=\"24px\">\n",
              "    <path d=\"M0 0h24v24H0V0z\" fill=\"none\"/>\n",
              "    <path d=\"M18.56 5.44l.94 2.06.94-2.06 2.06-.94-2.06-.94-.94-2.06-.94 2.06-2.06.94zm-11 1L8.5 8.5l.94-2.06 2.06-.94-2.06-.94L8.5 2.5l-.94 2.06-2.06.94zm10 10l.94 2.06.94-2.06 2.06-.94-2.06-.94-.94-2.06-.94 2.06-2.06.94z\"/><path d=\"M17.41 7.96l-1.37-1.37c-.4-.4-.92-.59-1.43-.59-.52 0-1.04.2-1.43.59L10.3 9.45l-7.72 7.72c-.78.78-.78 2.05 0 2.83L4 21.41c.39.39.9.59 1.41.59.51 0 1.02-.2 1.41-.59l7.78-7.78 2.81-2.81c.8-.78.8-2.07 0-2.86zM5.41 20L4 18.59l7.72-7.72 1.47 1.35L5.41 20z\"/>\n",
              "  </svg>\n",
              "      </button>\n",
              "      \n",
              "  <style>\n",
              "    .colab-df-container {\n",
              "      display:flex;\n",
              "      flex-wrap:wrap;\n",
              "      gap: 12px;\n",
              "    }\n",
              "\n",
              "    .colab-df-convert {\n",
              "      background-color: #E8F0FE;\n",
              "      border: none;\n",
              "      border-radius: 50%;\n",
              "      cursor: pointer;\n",
              "      display: none;\n",
              "      fill: #1967D2;\n",
              "      height: 32px;\n",
              "      padding: 0 0 0 0;\n",
              "      width: 32px;\n",
              "    }\n",
              "\n",
              "    .colab-df-convert:hover {\n",
              "      background-color: #E2EBFA;\n",
              "      box-shadow: 0px 1px 2px rgba(60, 64, 67, 0.3), 0px 1px 3px 1px rgba(60, 64, 67, 0.15);\n",
              "      fill: #174EA6;\n",
              "    }\n",
              "\n",
              "    [theme=dark] .colab-df-convert {\n",
              "      background-color: #3B4455;\n",
              "      fill: #D2E3FC;\n",
              "    }\n",
              "\n",
              "    [theme=dark] .colab-df-convert:hover {\n",
              "      background-color: #434B5C;\n",
              "      box-shadow: 0px 1px 3px 1px rgba(0, 0, 0, 0.15);\n",
              "      filter: drop-shadow(0px 1px 2px rgba(0, 0, 0, 0.3));\n",
              "      fill: #FFFFFF;\n",
              "    }\n",
              "  </style>\n",
              "\n",
              "      <script>\n",
              "        const buttonEl =\n",
              "          document.querySelector('#df-4e39dfc0-c796-4272-9ebc-c144148e0f63 button.colab-df-convert');\n",
              "        buttonEl.style.display =\n",
              "          google.colab.kernel.accessAllowed ? 'block' : 'none';\n",
              "\n",
              "        async function convertToInteractive(key) {\n",
              "          const element = document.querySelector('#df-4e39dfc0-c796-4272-9ebc-c144148e0f63');\n",
              "          const dataTable =\n",
              "            await google.colab.kernel.invokeFunction('convertToInteractive',\n",
              "                                                     [key], {});\n",
              "          if (!dataTable) return;\n",
              "\n",
              "          const docLinkHtml = 'Like what you see? Visit the ' +\n",
              "            '<a target=\"_blank\" href=https://colab.research.google.com/notebooks/data_table.ipynb>data table notebook</a>'\n",
              "            + ' to learn more about interactive tables.';\n",
              "          element.innerHTML = '';\n",
              "          dataTable['output_type'] = 'display_data';\n",
              "          await google.colab.output.renderOutput(dataTable, element);\n",
              "          const docLink = document.createElement('div');\n",
              "          docLink.innerHTML = docLinkHtml;\n",
              "          element.appendChild(docLink);\n",
              "        }\n",
              "      </script>\n",
              "    </div>\n",
              "  </div>\n",
              "  "
            ]
          },
          "metadata": {},
          "execution_count": 275
        }
      ],
      "source": [
        "df['Volume']=df['Volume'].replace(',','',regex=True).astype(float)\n",
        "df"
      ]
    },
    {
      "cell_type": "code",
      "execution_count": 276,
      "metadata": {
        "id": "V_z2VmuoG4wF",
        "colab": {
          "base_uri": "https://localhost:8080/"
        },
        "outputId": "d9adc149-25aa-4d06-af26-528824657a56"
      },
      "outputs": [
        {
          "output_type": "execute_result",
          "data": {
            "text/plain": [
              "145.29"
            ]
          },
          "metadata": {},
          "execution_count": 276
        }
      ],
      "source": [
        "s=max(df['Close*'])\n",
        "s"
      ]
    },
    {
      "cell_type": "code",
      "execution_count": 277,
      "metadata": {
        "id": "qWxrQGfMHm8b",
        "colab": {
          "base_uri": "https://localhost:8080/"
        },
        "outputId": "bfc6ff7a-89af-4990-c49a-6ec6a752d719"
      },
      "outputs": [
        {
          "output_type": "execute_result",
          "data": {
            "text/plain": [
              "-14.0"
            ]
          },
          "metadata": {},
          "execution_count": 277
        }
      ],
      "source": [
        "p=min(df['Open'])\n",
        "p"
      ]
    },
    {
      "cell_type": "markdown",
      "metadata": {
        "id": "qZM_qckYaNq3"
      },
      "source": [
        "DATA PREPROCESSING"
      ]
    },
    {
      "cell_type": "code",
      "execution_count": 278,
      "metadata": {
        "id": "wPUamSGeaH1g",
        "colab": {
          "base_uri": "https://localhost:8080/"
        },
        "outputId": "7e185ca3-a5d7-48ad-fc63-dad51ad805cd"
      },
      "outputs": [
        {
          "output_type": "execute_result",
          "data": {
            "text/plain": [
              "Date      0\n",
              "Open      0\n",
              "High      0\n",
              "Low       0\n",
              "Close*    0\n",
              "Volume    0\n",
              "dtype: int64"
            ]
          },
          "metadata": {},
          "execution_count": 278
        }
      ],
      "source": [
        "df.isnull().sum()"
      ]
    },
    {
      "cell_type": "code",
      "execution_count": 279,
      "metadata": {
        "id": "_hQgYX4KcJ_l",
        "colab": {
          "base_uri": "https://localhost:8080/"
        },
        "outputId": "84183a29-8802-437b-db9e-3fc7b3f084d8"
      },
      "outputs": [
        {
          "output_type": "execute_result",
          "data": {
            "text/plain": [
              "Date       object\n",
              "Open      float64\n",
              "High      float64\n",
              "Low       float64\n",
              "Close*    float64\n",
              "Volume    float64\n",
              "dtype: object"
            ]
          },
          "metadata": {},
          "execution_count": 279
        }
      ],
      "source": [
        "df.dtypes"
      ]
    },
    {
      "cell_type": "markdown",
      "metadata": {
        "id": "g2T_ip4IeUhM"
      },
      "source": [
        "DATA VISUALIZATION"
      ]
    },
    {
      "cell_type": "code",
      "execution_count": 280,
      "metadata": {
        "id": "yOfJuGx8eTCG",
        "colab": {
          "base_uri": "https://localhost:8080/",
          "height": 297
        },
        "outputId": "42f0f808-cd80-4536-b657-f4eafc03023b"
      },
      "outputs": [
        {
          "output_type": "execute_result",
          "data": {
            "text/plain": [
              "Text(0, 0.5, 'close*')"
            ]
          },
          "metadata": {},
          "execution_count": 280
        },
        {
          "output_type": "display_data",
          "data": {
            "text/plain": [
              "<Figure size 432x288 with 1 Axes>"
            ],
            "image/png": "[encoded data removed]"
          },
          "metadata": {
            "needs_background": "light"
          }
        }
      ],
      "source": [
        "import matplotlib.pyplot as plt\n",
        "plt.scatter(df['Open'],df['Close*'])\n",
        "plt.xlabel('open')\n",
        "plt.ylabel('close*')"
      ]
    },
    {
      "cell_type": "code",
      "execution_count": 281,
      "metadata": {
        "id": "y9t5shZNgGf9",
        "colab": {
          "base_uri": "https://localhost:8080/",
          "height": 283
        },
        "outputId": "c5f6f380-4b89-4eb8-978d-887a9340e723"
      },
      "outputs": [
        {
          "output_type": "execute_result",
          "data": {
            "text/plain": [
              "<matplotlib.collections.PathCollection at 0x7f6b5c05a190>"
            ]
          },
          "metadata": {},
          "execution_count": 281
        },
        {
          "output_type": "display_data",
          "data": {
            "text/plain": [
              "<Figure size 432x288 with 1 Axes>"
            ],
            "image/png": "[encoded data removed]"
          },
          "metadata": {
            "needs_background": "light"
          }
        }
      ],
      "source": [
        "plt.scatter(df['High'],df['Close*'])"
      ]
    },
    {
      "cell_type": "code",
      "execution_count": 282,
      "metadata": {
        "id": "wEXa7qnYgi_v",
        "colab": {
          "base_uri": "https://localhost:8080/",
          "height": 357
        },
        "outputId": "2f93e4e0-d36a-4c5e-a93c-42a7511b672d"
      },
      "outputs": [
        {
          "output_type": "execute_result",
          "data": {
            "text/plain": [
              "(array([1.00e+00, 0.00e+00, 7.00e+00, 4.95e+02, 1.29e+03, 1.37e+03,\n",
              "        7.77e+02, 9.16e+02, 1.31e+02, 4.20e+01]),\n",
              " array([-37.63 , -19.338,  -1.046,  17.246,  35.538,  53.83 ,  72.122,\n",
              "         90.414, 108.706, 126.998, 145.29 ]),\n",
              " <a list of 10 Patch objects>)"
            ]
          },
          "metadata": {},
          "execution_count": 282
        },
        {
          "output_type": "display_data",
          "data": {
            "text/plain": [
              "<Figure size 432x288 with 1 Axes>"
            ],
            "image/png": "[encoded data removed]"
          },
          "metadata": {
            "needs_background": "light"
          }
        }
      ],
      "source": [
        "plt.hist(df['Close*'])"
      ]
    },
    {
      "cell_type": "code",
      "execution_count": 283,
      "metadata": {
        "id": "0Pvk_i_FcQ2v",
        "colab": {
          "base_uri": "https://localhost:8080/",
          "height": 413
        },
        "outputId": "745ccb36-57c1-48e8-fcfe-00a3df1103cf"
      },
      "outputs": [
        {
          "output_type": "execute_result",
          "data": {
            "text/plain": [
              "{'whiskers': [<matplotlib.lines.Line2D at 0x7f6b5bed8f50>,\n",
              "  <matplotlib.lines.Line2D at 0x7f6b5bedc4d0>],\n",
              " 'caps': [<matplotlib.lines.Line2D at 0x7f6b5bedca10>,\n",
              "  <matplotlib.lines.Line2D at 0x7f6b5bedcf50>],\n",
              " 'boxes': [<matplotlib.lines.Line2D at 0x7f6b5bed89d0>],\n",
              " 'medians': [<matplotlib.lines.Line2D at 0x7f6b5bee5510>],\n",
              " 'fliers': [<matplotlib.lines.Line2D at 0x7f6b5bee5a50>],\n",
              " 'means': []}"
            ]
          },
          "metadata": {},
          "execution_count": 283
        },
        {
          "output_type": "display_data",
          "data": {
            "text/plain": [
              "<Figure size 432x288 with 1 Axes>"
            ],
            "image/png": "[encoded data removed]"
          },
          "metadata": {
            "needs_background": "light"
          }
        }
      ],
      "source": [
        "plt.boxplot(df['Close*'])"
      ]
    },
    {
      "cell_type": "code",
      "execution_count": 284,
      "metadata": {
        "id": "T4VKPgyefl5p",
        "colab": {
          "base_uri": "https://localhost:8080/",
          "height": 283
        },
        "outputId": "f0f976b1-fff5-48fa-a9e5-c870ee3517ea"
      },
      "outputs": [
        {
          "output_type": "execute_result",
          "data": {
            "text/plain": [
              "[<matplotlib.lines.Line2D at 0x7f6b5bed8290>]"
            ]
          },
          "metadata": {},
          "execution_count": 284
        },
        {
          "output_type": "display_data",
          "data": {
            "text/plain": [
              "<Figure size 432x288 with 1 Axes>"
            ],
            "image/png": "[encoded data removed]"
          },
          "metadata": {
            "needs_background": "light"
          }
        }
      ],
      "source": [
        "plt.plot(df['High'],df['Close*'])"
      ]
    },
    {
      "cell_type": "code",
      "execution_count": 285,
      "metadata": {
        "id": "OkhOafcmg5j_",
        "colab": {
          "base_uri": "https://localhost:8080/",
          "height": 206
        },
        "outputId": "2c4abbb8-1344-41f8-da2d-c51845608451"
      },
      "outputs": [
        {
          "output_type": "execute_result",
          "data": {
            "text/plain": [
              "            Open      High       Low    Close*    Volume\n",
              "Open    1.000000  0.999018  0.998422  0.997578 -0.053056\n",
              "High    0.999018  1.000000  0.997898  0.998558 -0.046702\n",
              "Low     0.998422  0.997898  1.000000  0.999122 -0.059568\n",
              "Close*  0.997578  0.998558  0.999122  1.000000 -0.053852\n",
              "Volume -0.053056 -0.046702 -0.059568 -0.053852  1.000000"
            ],
            "text/html": [
              "\n",
              "  <div id=\"df-28f4cd73-d949-4139-b60d-753bc2eab9d5\">\n",
              "    <div class=\"colab-df-container\">\n",
              "      <div>\n",
              "<style scoped>\n",
              "    .dataframe tbody tr th:only-of-type {\n",
              "        vertical-align: middle;\n",
              "    }\n",
              "\n",
              "    .dataframe tbody tr th {\n",
              "        vertical-align: top;\n",
              "    }\n",
              "\n",
              "    .dataframe thead th {\n",
              "        text-align: right;\n",
              "    }\n",
              "</style>\n",
              "<table border=\"1\" class=\"dataframe\">\n",
              "  <thead>\n",
              "    <tr style=\"text-align: right;\">\n",
              "      <th></th>\n",
              "      <th>Open</th>\n",
              "      <th>High</th>\n",
              "      <th>Low</th>\n",
              "      <th>Close*</th>\n",
              "      <th>Volume</th>\n",
              "    </tr>\n",
              "  </thead>\n",
              "  <tbody>\n",
              "    <tr>\n",
              "      <th>Open</th>\n",
              "      <td>1.000000</td>\n",
              "      <td>0.999018</td>\n",
              "      <td>0.998422</td>\n",
              "      <td>0.997578</td>\n",
              "      <td>-0.053056</td>\n",
              "    </tr>\n",
              "    <tr>\n",
              "      <th>High</th>\n",
              "      <td>0.999018</td>\n",
              "      <td>1.000000</td>\n",
              "      <td>0.997898</td>\n",
              "      <td>0.998558</td>\n",
              "      <td>-0.046702</td>\n",
              "    </tr>\n",
              "    <tr>\n",
              "      <th>Low</th>\n",
              "      <td>0.998422</td>\n",
              "      <td>0.997898</td>\n",
              "      <td>1.000000</td>\n",
              "      <td>0.999122</td>\n",
              "      <td>-0.059568</td>\n",
              "    </tr>\n",
              "    <tr>\n",
              "      <th>Close*</th>\n",
              "      <td>0.997578</td>\n",
              "      <td>0.998558</td>\n",
              "      <td>0.999122</td>\n",
              "      <td>1.000000</td>\n",
              "      <td>-0.053852</td>\n",
              "    </tr>\n",
              "    <tr>\n",
              "      <th>Volume</th>\n",
              "      <td>-0.053056</td>\n",
              "      <td>-0.046702</td>\n",
              "      <td>-0.059568</td>\n",
              "      <td>-0.053852</td>\n",
              "      <td>1.000000</td>\n",
              "    </tr>\n",
              "  </tbody>\n",
              "</table>\n",
              "</div>\n",
              "      <button class=\"colab-df-convert\" onclick=\"convertToInteractive('df-28f4cd73-d949-4139-b60d-753bc2eab9d5')\"\n",
              "              title=\"Convert this dataframe to an interactive table.\"\n",
              "              style=\"display:none;\">\n",
              "        \n",
              "  <svg xmlns=\"http://www.w3.org/2000/svg\" height=\"24px\"viewBox=\"0 0 24 24\"\n",
              "       width=\"24px\">\n",
              "    <path d=\"M0 0h24v24H0V0z\" fill=\"none\"/>\n",
              "    <path d=\"M18.56 5.44l.94 2.06.94-2.06 2.06-.94-2.06-.94-.94-2.06-.94 2.06-2.06.94zm-11 1L8.5 8.5l.94-2.06 2.06-.94-2.06-.94L8.5 2.5l-.94 2.06-2.06.94zm10 10l.94 2.06.94-2.06 2.06-.94-2.06-.94-.94-2.06-.94 2.06-2.06.94z\"/><path d=\"M17.41 7.96l-1.37-1.37c-.4-.4-.92-.59-1.43-.59-.52 0-1.04.2-1.43.59L10.3 9.45l-7.72 7.72c-.78.78-.78 2.05 0 2.83L4 21.41c.39.39.9.59 1.41.59.51 0 1.02-.2 1.41-.59l7.78-7.78 2.81-2.81c.8-.78.8-2.07 0-2.86zM5.41 20L4 18.59l7.72-7.72 1.47 1.35L5.41 20z\"/>\n",
              "  </svg>\n",
              "      </button>\n",
              "      \n",
              "  <style>\n",
              "    .colab-df-container {\n",
              "      display:flex;\n",
              "      flex-wrap:wrap;\n",
              "      gap: 12px;\n",
              "    }\n",
              "\n",
              "    .colab-df-convert {\n",
              "      background-color: #E8F0FE;\n",
              "      border: none;\n",
              "      border-radius: 50%;\n",
              "      cursor: pointer;\n",
              "      display: none;\n",
              "      fill: #1967D2;\n",
              "      height: 32px;\n",
              "      padding: 0 0 0 0;\n",
              "      width: 32px;\n",
              "    }\n",
              "\n",
              "    .colab-df-convert:hover {\n",
              "      background-color: #E2EBFA;\n",
              "      box-shadow: 0px 1px 2px rgba(60, 64, 67, 0.3), 0px 1px 3px 1px rgba(60, 64, 67, 0.15);\n",
              "      fill: #174EA6;\n",
              "    }\n",
              "\n",
              "    [theme=dark] .colab-df-convert {\n",
              "      background-color: #3B4455;\n",
              "      fill: #D2E3FC;\n",
              "    }\n",
              "\n",
              "    [theme=dark] .colab-df-convert:hover {\n",
              "      background-color: #434B5C;\n",
              "      box-shadow: 0px 1px 3px 1px rgba(0, 0, 0, 0.15);\n",
              "      filter: drop-shadow(0px 1px 2px rgba(0, 0, 0, 0.3));\n",
              "      fill: #FFFFFF;\n",
              "    }\n",
              "  </style>\n",
              "\n",
              "      <script>\n",
              "        const buttonEl =\n",
              "          document.querySelector('#df-28f4cd73-d949-4139-b60d-753bc2eab9d5 button.colab-df-convert');\n",
              "        buttonEl.style.display =\n",
              "          google.colab.kernel.accessAllowed ? 'block' : 'none';\n",
              "\n",
              "        async function convertToInteractive(key) {\n",
              "          const element = document.querySelector('#df-28f4cd73-d949-4139-b60d-753bc2eab9d5');\n",
              "          const dataTable =\n",
              "            await google.colab.kernel.invokeFunction('convertToInteractive',\n",
              "                                                     [key], {});\n",
              "          if (!dataTable) return;\n",
              "\n",
              "          const docLinkHtml = 'Like what you see? Visit the ' +\n",
              "            '<a target=\"_blank\" href=https://colab.research.google.com/notebooks/data_table.ipynb>data table notebook</a>'\n",
              "            + ' to learn more about interactive tables.';\n",
              "          element.innerHTML = '';\n",
              "          dataTable['output_type'] = 'display_data';\n",
              "          await google.colab.output.renderOutput(dataTable, element);\n",
              "          const docLink = document.createElement('div');\n",
              "          docLink.innerHTML = docLinkHtml;\n",
              "          element.appendChild(docLink);\n",
              "        }\n",
              "      </script>\n",
              "    </div>\n",
              "  </div>\n",
              "  "
            ]
          },
          "metadata": {},
          "execution_count": 285
        }
      ],
      "source": [
        "df.corr()"
      ]
    },
    {
      "cell_type": "markdown",
      "metadata": {
        "id": "QVC_HRQ2hx8O"
      },
      "source": [
        "MODEL MAKING "
      ]
    },
    {
      "cell_type": "markdown",
      "metadata": {
        "id": "gn1Hhjolh3GE"
      },
      "source": [
        "MODEL MAKING USING DECISION TREE"
      ]
    },
    {
      "cell_type": "code",
      "execution_count": null,
      "metadata": {
        "id": "P74bdsfsh2Jw"
      },
      "outputs": [],
      "source": [
        "x=df.iloc[:,[1,2,3,5]]\n",
        "y=df.iloc[:,4]"
      ]
    },
    {
      "cell_type": "code",
      "execution_count": null,
      "metadata": {
        "id": "LXNuqZMRhrv-"
      },
      "outputs": [],
      "source": [
        "from sklearn.model_selection import train_test_split\n",
        "x_train,x_test,y_train,y_test =train_test_split(x,y,test_size= 0.25,random_state=0)"
      ]
    },
    {
      "cell_type": "code",
      "execution_count": null,
      "metadata": {
        "id": "oqmHJotfjka3"
      },
      "outputs": [],
      "source": [
        "from sklearn import tree"
      ]
    },
    {
      "cell_type": "code",
      "execution_count": null,
      "metadata": {
        "id": "3x-ehPGaj7mr"
      },
      "outputs": [],
      "source": [
        "model=tree.DecisionTreeRegressor()\n",
        "mymodel=model.fit(x_train,y_train)"
      ]
    },
    {
      "cell_type": "code",
      "execution_count": null,
      "metadata": {
        "id": "YGh1S9xakrbg",
        "colab": {
          "base_uri": "https://localhost:8080/"
        },
        "outputId": "f46b5048-0c60-4e36-d2a7-d9b463cf702d"
      },
      "outputs": [
        {
          "output_type": "execute_result",
          "data": {
            "text/plain": [
              "array([ 95.32,  89.28,  38.84, ...,  42.5 , 104.07,  37.35])"
            ]
          },
          "metadata": {},
          "execution_count": 220
        }
      ],
      "source": [
        "y_pred= mymodel.predict(x_test)\n",
        "y_pred"
      ]
    },
    {
      "cell_type": "code",
      "execution_count": null,
      "metadata": {
        "id": "-peHZLRQk_K5",
        "colab": {
          "base_uri": "https://localhost:8080/"
        },
        "outputId": "e10b7e42-fa8d-4b06-b042-cc423539f314"
      },
      "outputs": [
        {
          "output_type": "execute_result",
          "data": {
            "text/plain": [
              "(1258,)"
            ]
          },
          "metadata": {},
          "execution_count": 221
        }
      ],
      "source": [
        "y_pred.shape"
      ]
    },
    {
      "cell_type": "code",
      "execution_count": null,
      "metadata": {
        "id": "_5Ro82EBlDF4",
        "colab": {
          "base_uri": "https://localhost:8080/"
        },
        "outputId": "dfa008cc-ec91-49a0-f648-9392aee15cc8"
      },
      "outputs": [
        {
          "output_type": "execute_result",
          "data": {
            "text/plain": [
              "0.995672112377332"
            ]
          },
          "metadata": {},
          "execution_count": 222
        }
      ],
      "source": [
        "from sklearn.metrics import r2_score\n",
        "r2_score(y_pred,y_test)"
      ]
    },
    {
      "cell_type": "code",
      "execution_count": null,
      "metadata": {
        "id": "69L2eMJysNKr",
        "colab": {
          "base_uri": "https://localhost:8080/",
          "height": 423
        },
        "outputId": "04b475d4-0c00-42cd-f3d7-8a23f27a87b6"
      },
      "outputs": [
        {
          "output_type": "execute_result",
          "data": {
            "text/plain": [
              "              Date    Open    High     Low  Close*    Volume\n",
              "0     Jul 01, 2022  106.01  109.34  104.56  108.43  305338.0\n",
              "1     Jun 30, 2022  109.70  110.45  105.10  105.76  362890.0\n",
              "2     Jun 29, 2022  111.86  114.05  109.22  109.78  322060.0\n",
              "3     Jun 28, 2022  110.18  112.22  109.62  111.76  306748.0\n",
              "4     Jun 27, 2022  107.22  110.54  105.60  109.57  282914.0\n",
              "...            ...     ...     ...     ...     ...       ...\n",
              "5024  Jul 09, 2002   25.87   26.20   25.73   26.09   84852.0\n",
              "5025  Jul 08, 2002   26.25   26.86   25.90   26.07   75606.0\n",
              "5026  Jul 03, 2002   26.68   26.95   26.38   26.80   62869.0\n",
              "5027  Jul 02, 2002   27.00   27.15   26.63   26.77   64641.0\n",
              "5028  Jul 01, 2002   26.80   27.15   26.61   26.81   43853.0\n",
              "\n",
              "[5029 rows x 6 columns]"
            ],
            "text/html": [
              "\n",
              "  <div id=\"df-fa471880-3c39-4de1-8743-669b0c76626a\">\n",
              "    <div class=\"colab-df-container\">\n",
              "      <div>\n",
              "<style scoped>\n",
              "    .dataframe tbody tr th:only-of-type {\n",
              "        vertical-align: middle;\n",
              "    }\n",
              "\n",
              "    .dataframe tbody tr th {\n",
              "        vertical-align: top;\n",
              "    }\n",
              "\n",
              "    .dataframe thead th {\n",
              "        text-align: right;\n",
              "    }\n",
              "</style>\n",
              "<table border=\"1\" class=\"dataframe\">\n",
              "  <thead>\n",
              "    <tr style=\"text-align: right;\">\n",
              "      <th></th>\n",
              "      <th>Date</th>\n",
              "      <th>Open</th>\n",
              "      <th>High</th>\n",
              "      <th>Low</th>\n",
              "      <th>Close*</th>\n",
              "      <th>Volume</th>\n",
              "    </tr>\n",
              "  </thead>\n",
              "  <tbody>\n",
              "    <tr>\n",
              "      <th>0</th>\n",
              "      <td>Jul 01, 2022</td>\n",
              "      <td>106.01</td>\n",
              "      <td>109.34</td>\n",
              "      <td>104.56</td>\n",
              "      <td>108.43</td>\n",
              "      <td>305338.0</td>\n",
              "    </tr>\n",
              "    <tr>\n",
              "      <th>1</th>\n",
              "      <td>Jun 30, 2022</td>\n",
              "      <td>109.70</td>\n",
              "      <td>110.45</td>\n",
              "      <td>105.10</td>\n",
              "      <td>105.76</td>\n",
              "      <td>362890.0</td>\n",
              "    </tr>\n",
              "    <tr>\n",
              "      <th>2</th>\n",
              "      <td>Jun 29, 2022</td>\n",
              "      <td>111.86</td>\n",
              "      <td>114.05</td>\n",
              "      <td>109.22</td>\n",
              "      <td>109.78</td>\n",
              "      <td>322060.0</td>\n",
              "    </tr>\n",
              "    <tr>\n",
              "      <th>3</th>\n",
              "      <td>Jun 28, 2022</td>\n",
              "      <td>110.18</td>\n",
              "      <td>112.22</td>\n",
              "      <td>109.62</td>\n",
              "      <td>111.76</td>\n",
              "      <td>306748.0</td>\n",
              "    </tr>\n",
              "    <tr>\n",
              "      <th>4</th>\n",
              "      <td>Jun 27, 2022</td>\n",
              "      <td>107.22</td>\n",
              "      <td>110.54</td>\n",
              "      <td>105.60</td>\n",
              "      <td>109.57</td>\n",
              "      <td>282914.0</td>\n",
              "    </tr>\n",
              "    <tr>\n",
              "      <th>...</th>\n",
              "      <td>...</td>\n",
              "      <td>...</td>\n",
              "      <td>...</td>\n",
              "      <td>...</td>\n",
              "      <td>...</td>\n",
              "      <td>...</td>\n",
              "    </tr>\n",
              "    <tr>\n",
              "      <th>5024</th>\n",
              "      <td>Jul 09, 2002</td>\n",
              "      <td>25.87</td>\n",
              "      <td>26.20</td>\n",
              "      <td>25.73</td>\n",
              "      <td>26.09</td>\n",
              "      <td>84852.0</td>\n",
              "    </tr>\n",
              "    <tr>\n",
              "      <th>5025</th>\n",
              "      <td>Jul 08, 2002</td>\n",
              "      <td>26.25</td>\n",
              "      <td>26.86</td>\n",
              "      <td>25.90</td>\n",
              "      <td>26.07</td>\n",
              "      <td>75606.0</td>\n",
              "    </tr>\n",
              "    <tr>\n",
              "      <th>5026</th>\n",
              "      <td>Jul 03, 2002</td>\n",
              "      <td>26.68</td>\n",
              "      <td>26.95</td>\n",
              "      <td>26.38</td>\n",
              "      <td>26.80</td>\n",
              "      <td>62869.0</td>\n",
              "    </tr>\n",
              "    <tr>\n",
              "      <th>5027</th>\n",
              "      <td>Jul 02, 2002</td>\n",
              "      <td>27.00</td>\n",
              "      <td>27.15</td>\n",
              "      <td>26.63</td>\n",
              "      <td>26.77</td>\n",
              "      <td>64641.0</td>\n",
              "    </tr>\n",
              "    <tr>\n",
              "      <th>5028</th>\n",
              "      <td>Jul 01, 2002</td>\n",
              "      <td>26.80</td>\n",
              "      <td>27.15</td>\n",
              "      <td>26.61</td>\n",
              "      <td>26.81</td>\n",
              "      <td>43853.0</td>\n",
              "    </tr>\n",
              "  </tbody>\n",
              "</table>\n",
              "<p>5029 rows × 6 columns</p>\n",
              "</div>\n",
              "      <button class=\"colab-df-convert\" onclick=\"convertToInteractive('df-fa471880-3c39-4de1-8743-669b0c76626a')\"\n",
              "              title=\"Convert this dataframe to an interactive table.\"\n",
              "              style=\"display:none;\">\n",
              "        \n",
              "  <svg xmlns=\"http://www.w3.org/2000/svg\" height=\"24px\"viewBox=\"0 0 24 24\"\n",
              "       width=\"24px\">\n",
              "    <path d=\"M0 0h24v24H0V0z\" fill=\"none\"/>\n",
              "    <path d=\"M18.56 5.44l.94 2.06.94-2.06 2.06-.94-2.06-.94-.94-2.06-.94 2.06-2.06.94zm-11 1L8.5 8.5l.94-2.06 2.06-.94-2.06-.94L8.5 2.5l-.94 2.06-2.06.94zm10 10l.94 2.06.94-2.06 2.06-.94-2.06-.94-.94-2.06-.94 2.06-2.06.94z\"/><path d=\"M17.41 7.96l-1.37-1.37c-.4-.4-.92-.59-1.43-.59-.52 0-1.04.2-1.43.59L10.3 9.45l-7.72 7.72c-.78.78-.78 2.05 0 2.83L4 21.41c.39.39.9.59 1.41.59.51 0 1.02-.2 1.41-.59l7.78-7.78 2.81-2.81c.8-.78.8-2.07 0-2.86zM5.41 20L4 18.59l7.72-7.72 1.47 1.35L5.41 20z\"/>\n",
              "  </svg>\n",
              "      </button>\n",
              "      \n",
              "  <style>\n",
              "    .colab-df-container {\n",
              "      display:flex;\n",
              "      flex-wrap:wrap;\n",
              "      gap: 12px;\n",
              "    }\n",
              "\n",
              "    .colab-df-convert {\n",
              "      background-color: #E8F0FE;\n",
              "      border: none;\n",
              "      border-radius: 50%;\n",
              "      cursor: pointer;\n",
              "      display: none;\n",
              "      fill: #1967D2;\n",
              "      height: 32px;\n",
              "      padding: 0 0 0 0;\n",
              "      width: 32px;\n",
              "    }\n",
              "\n",
              "    .colab-df-convert:hover {\n",
              "      background-color: #E2EBFA;\n",
              "      box-shadow: 0px 1px 2px rgba(60, 64, 67, 0.3), 0px 1px 3px 1px rgba(60, 64, 67, 0.15);\n",
              "      fill: #174EA6;\n",
              "    }\n",
              "\n",
              "    [theme=dark] .colab-df-convert {\n",
              "      background-color: #3B4455;\n",
              "      fill: #D2E3FC;\n",
              "    }\n",
              "\n",
              "    [theme=dark] .colab-df-convert:hover {\n",
              "      background-color: #434B5C;\n",
              "      box-shadow: 0px 1px 3px 1px rgba(0, 0, 0, 0.15);\n",
              "      filter: drop-shadow(0px 1px 2px rgba(0, 0, 0, 0.3));\n",
              "      fill: #FFFFFF;\n",
              "    }\n",
              "  </style>\n",
              "\n",
              "      <script>\n",
              "        const buttonEl =\n",
              "          document.querySelector('#df-fa471880-3c39-4de1-8743-669b0c76626a button.colab-df-convert');\n",
              "        buttonEl.style.display =\n",
              "          google.colab.kernel.accessAllowed ? 'block' : 'none';\n",
              "\n",
              "        async function convertToInteractive(key) {\n",
              "          const element = document.querySelector('#df-fa471880-3c39-4de1-8743-669b0c76626a');\n",
              "          const dataTable =\n",
              "            await google.colab.kernel.invokeFunction('convertToInteractive',\n",
              "                                                     [key], {});\n",
              "          if (!dataTable) return;\n",
              "\n",
              "          const docLinkHtml = 'Like what you see? Visit the ' +\n",
              "            '<a target=\"_blank\" href=https://colab.research.google.com/notebooks/data_table.ipynb>data table notebook</a>'\n",
              "            + ' to learn more about interactive tables.';\n",
              "          element.innerHTML = '';\n",
              "          dataTable['output_type'] = 'display_data';\n",
              "          await google.colab.output.renderOutput(dataTable, element);\n",
              "          const docLink = document.createElement('div');\n",
              "          docLink.innerHTML = docLinkHtml;\n",
              "          element.appendChild(docLink);\n",
              "        }\n",
              "      </script>\n",
              "    </div>\n",
              "  </div>\n",
              "  "
            ]
          },
          "metadata": {},
          "execution_count": 224
        }
      ],
      "source": [
        "df"
      ]
    },
    {
      "cell_type": "code",
      "execution_count": null,
      "metadata": {
        "id": "KnG1t_IUsI04",
        "colab": {
          "base_uri": "https://localhost:8080/"
        },
        "outputId": "867ba7a3-ecc0-4245-c4b9-e569e2c6e90a"
      },
      "outputs": [
        {
          "output_type": "stream",
          "name": "stderr",
          "text": [
            "/usr/local/lib/python3.7/dist-packages/sklearn/base.py:451: UserWarning: X does not have valid feature names, but DecisionTreeRegressor was fitted with feature names\n",
            "  \"X does not have valid feature names, but\"\n"
          ]
        },
        {
          "output_type": "execute_result",
          "data": {
            "text/plain": [
              "array([109.57])"
            ]
          },
          "metadata": {},
          "execution_count": 258
        }
      ],
      "source": [
        "mymodel.predict([[107.22,110.54,105.60,282914.0]]) # 27 june 2022"
      ]
    },
    {
      "cell_type": "code",
      "execution_count": null,
      "metadata": {
        "id": "RHuAB5vclZcv",
        "colab": {
          "base_uri": "https://localhost:8080/"
        },
        "outputId": "2b95192a-ff1d-4c88-fc61-115661b3f9c9"
      },
      "outputs": [
        {
          "output_type": "stream",
          "name": "stderr",
          "text": [
            "/usr/local/lib/python3.7/dist-packages/sklearn/base.py:451: UserWarning: X does not have valid feature names, but DecisionTreeRegressor was fitted with feature names\n",
            "  \"X does not have valid feature names, but\"\n"
          ]
        },
        {
          "output_type": "execute_result",
          "data": {
            "text/plain": [
              "array([108.43])"
            ]
          },
          "metadata": {},
          "execution_count": 226
        }
      ],
      "source": [
        "mymodel.predict([[106.01,109.34,104.56,305338]]) # 01 july 2022"
      ]
    },
    {
      "cell_type": "code",
      "execution_count": null,
      "metadata": {
        "id": "y0iCrX3IAap3",
        "colab": {
          "base_uri": "https://localhost:8080/"
        },
        "outputId": "b05bf570-b089-4094-aeed-c81c14c10ede"
      },
      "outputs": [
        {
          "output_type": "stream",
          "name": "stderr",
          "text": [
            "/usr/local/lib/python3.7/dist-packages/sklearn/base.py:451: UserWarning: X does not have valid feature names, but DecisionTreeRegressor was fitted with feature names\n",
            "  \"X does not have valid feature names, but\"\n"
          ]
        },
        {
          "output_type": "execute_result",
          "data": {
            "text/plain": [
              "array([26.09])"
            ]
          },
          "metadata": {},
          "execution_count": 260
        }
      ],
      "source": [
        "mymodel.predict([[25.87,26.20,25.73,84852.0]]) #09 july 2002"
      ]
    },
    {
      "cell_type": "code",
      "source": [
        "mymodel.predict([[83.54,83.92,78.04,334271]]) # 23 september 2022(untrained)"
      ],
      "metadata": {
        "colab": {
          "base_uri": "https://localhost:8080/"
        },
        "id": "IcxsznBASCG4",
        "outputId": "50603b70-4c4e-4abe-e2fe-268eb5b8f7ed"
      },
      "execution_count": null,
      "outputs": [
        {
          "output_type": "stream",
          "name": "stderr",
          "text": [
            "/usr/local/lib/python3.7/dist-packages/sklearn/base.py:451: UserWarning: X does not have valid feature names, but DecisionTreeRegressor was fitted with feature names\n",
            "  \"X does not have valid feature names, but\"\n"
          ]
        },
        {
          "output_type": "execute_result",
          "data": {
            "text/plain": [
              "array([78.63])"
            ]
          },
          "metadata": {},
          "execution_count": 262
        }
      ]
    },
    {
      "cell_type": "code",
      "source": [
        "mymodel.predict([[92.31,92.73,88.27,344147]]) # 31 august 2022 (untrained)"
      ],
      "metadata": {
        "colab": {
          "base_uri": "https://localhost:8080/"
        },
        "id": "SYJz3OsWSg18",
        "outputId": "9b11f8ad-360c-4a52-c96d-dc54cc4258c2"
      },
      "execution_count": null,
      "outputs": [
        {
          "output_type": "stream",
          "name": "stderr",
          "text": [
            "/usr/local/lib/python3.7/dist-packages/sklearn/base.py:451: UserWarning: X does not have valid feature names, but DecisionTreeRegressor was fitted with feature names\n",
            "  \"X does not have valid feature names, but\"\n"
          ]
        },
        {
          "output_type": "execute_result",
          "data": {
            "text/plain": [
              "array([88.14])"
            ]
          },
          "metadata": {},
          "execution_count": 263
        }
      ]
    },
    {
      "cell_type": "markdown",
      "metadata": {
        "id": "GWqUY-ewnhi-"
      },
      "source": [
        "model making with random forest regressor"
      ]
    },
    {
      "cell_type": "code",
      "execution_count": null,
      "metadata": {
        "id": "hXdAwelknlDR"
      },
      "outputs": [],
      "source": [
        "from sklearn.ensemble import RandomForestRegressor\n",
        "model= RandomForestRegressor()\n",
        "modelr=model.fit(x_train,y_train)"
      ]
    },
    {
      "cell_type": "code",
      "execution_count": null,
      "metadata": {
        "colab": {
          "base_uri": "https://localhost:8080/",
          "height": 423
        },
        "id": "z-LoK9ETnlua",
        "outputId": "58bc92fe-b22f-4c13-de73-3af179cf0db0"
      },
      "outputs": [
        {
          "output_type": "execute_result",
          "data": {
            "text/plain": [
              "        Open    High     Low    Volume\n",
              "3348   45.20   47.63   43.62  240078.0\n",
              "2966   73.59   75.45   73.32  132427.0\n",
              "4877   34.50   35.25   34.35   99482.0\n",
              "1410   47.97   48.26   45.88  465977.0\n",
              "2216  107.77  109.16  107.30  249780.0\n",
              "...      ...     ...     ...       ...\n",
              "4931   25.75   26.75   25.52   83906.0\n",
              "3264   59.79   62.00   59.65  279729.0\n",
              "1653   40.10   40.15   37.50  635413.0\n",
              "2607  106.01  106.72  105.61  241329.0\n",
              "2732   84.45   86.39   83.40  353947.0\n",
              "\n",
              "[3771 rows x 4 columns]"
            ],
            "text/html": [
              "\n",
              "  <div id=\"df-339f19f3-0054-40e1-9dfd-5c649236643e\">\n",
              "    <div class=\"colab-df-container\">\n",
              "      <div>\n",
              "<style scoped>\n",
              "    .dataframe tbody tr th:only-of-type {\n",
              "        vertical-align: middle;\n",
              "    }\n",
              "\n",
              "    .dataframe tbody tr th {\n",
              "        vertical-align: top;\n",
              "    }\n",
              "\n",
              "    .dataframe thead th {\n",
              "        text-align: right;\n",
              "    }\n",
              "</style>\n",
              "<table border=\"1\" class=\"dataframe\">\n",
              "  <thead>\n",
              "    <tr style=\"text-align: right;\">\n",
              "      <th></th>\n",
              "      <th>Open</th>\n",
              "      <th>High</th>\n",
              "      <th>Low</th>\n",
              "      <th>Volume</th>\n",
              "    </tr>\n",
              "  </thead>\n",
              "  <tbody>\n",
              "    <tr>\n",
              "      <th>3348</th>\n",
              "      <td>45.20</td>\n",
              "      <td>47.63</td>\n",
              "      <td>43.62</td>\n",
              "      <td>240078.0</td>\n",
              "    </tr>\n",
              "    <tr>\n",
              "      <th>2966</th>\n",
              "      <td>73.59</td>\n",
              "      <td>75.45</td>\n",
              "      <td>73.32</td>\n",
              "      <td>132427.0</td>\n",
              "    </tr>\n",
              "    <tr>\n",
              "      <th>4877</th>\n",
              "      <td>34.50</td>\n",
              "      <td>35.25</td>\n",
              "      <td>34.35</td>\n",
              "      <td>99482.0</td>\n",
              "    </tr>\n",
              "    <tr>\n",
              "      <th>1410</th>\n",
              "      <td>47.97</td>\n",
              "      <td>48.26</td>\n",
              "      <td>45.88</td>\n",
              "      <td>465977.0</td>\n",
              "    </tr>\n",
              "    <tr>\n",
              "      <th>2216</th>\n",
              "      <td>107.77</td>\n",
              "      <td>109.16</td>\n",
              "      <td>107.30</td>\n",
              "      <td>249780.0</td>\n",
              "    </tr>\n",
              "    <tr>\n",
              "      <th>...</th>\n",
              "      <td>...</td>\n",
              "      <td>...</td>\n",
              "      <td>...</td>\n",
              "      <td>...</td>\n",
              "    </tr>\n",
              "    <tr>\n",
              "      <th>4931</th>\n",
              "      <td>25.75</td>\n",
              "      <td>26.75</td>\n",
              "      <td>25.52</td>\n",
              "      <td>83906.0</td>\n",
              "    </tr>\n",
              "    <tr>\n",
              "      <th>3264</th>\n",
              "      <td>59.79</td>\n",
              "      <td>62.00</td>\n",
              "      <td>59.65</td>\n",
              "      <td>279729.0</td>\n",
              "    </tr>\n",
              "    <tr>\n",
              "      <th>1653</th>\n",
              "      <td>40.10</td>\n",
              "      <td>40.15</td>\n",
              "      <td>37.50</td>\n",
              "      <td>635413.0</td>\n",
              "    </tr>\n",
              "    <tr>\n",
              "      <th>2607</th>\n",
              "      <td>106.01</td>\n",
              "      <td>106.72</td>\n",
              "      <td>105.61</td>\n",
              "      <td>241329.0</td>\n",
              "    </tr>\n",
              "    <tr>\n",
              "      <th>2732</th>\n",
              "      <td>84.45</td>\n",
              "      <td>86.39</td>\n",
              "      <td>83.40</td>\n",
              "      <td>353947.0</td>\n",
              "    </tr>\n",
              "  </tbody>\n",
              "</table>\n",
              "<p>3771 rows × 4 columns</p>\n",
              "</div>\n",
              "      <button class=\"colab-df-convert\" onclick=\"convertToInteractive('df-339f19f3-0054-40e1-9dfd-5c649236643e')\"\n",
              "              title=\"Convert this dataframe to an interactive table.\"\n",
              "              style=\"display:none;\">\n",
              "        \n",
              "  <svg xmlns=\"http://www.w3.org/2000/svg\" height=\"24px\"viewBox=\"0 0 24 24\"\n",
              "       width=\"24px\">\n",
              "    <path d=\"M0 0h24v24H0V0z\" fill=\"none\"/>\n",
              "    <path d=\"M18.56 5.44l.94 2.06.94-2.06 2.06-.94-2.06-.94-.94-2.06-.94 2.06-2.06.94zm-11 1L8.5 8.5l.94-2.06 2.06-.94-2.06-.94L8.5 2.5l-.94 2.06-2.06.94zm10 10l.94 2.06.94-2.06 2.06-.94-2.06-.94-.94-2.06-.94 2.06-2.06.94z\"/><path d=\"M17.41 7.96l-1.37-1.37c-.4-.4-.92-.59-1.43-.59-.52 0-1.04.2-1.43.59L10.3 9.45l-7.72 7.72c-.78.78-.78 2.05 0 2.83L4 21.41c.39.39.9.59 1.41.59.51 0 1.02-.2 1.41-.59l7.78-7.78 2.81-2.81c.8-.78.8-2.07 0-2.86zM5.41 20L4 18.59l7.72-7.72 1.47 1.35L5.41 20z\"/>\n",
              "  </svg>\n",
              "      </button>\n",
              "      \n",
              "  <style>\n",
              "    .colab-df-container {\n",
              "      display:flex;\n",
              "      flex-wrap:wrap;\n",
              "      gap: 12px;\n",
              "    }\n",
              "\n",
              "    .colab-df-convert {\n",
              "      background-color: #E8F0FE;\n",
              "      border: none;\n",
              "      border-radius: 50%;\n",
              "      cursor: pointer;\n",
              "      display: none;\n",
              "      fill: #1967D2;\n",
              "      height: 32px;\n",
              "      padding: 0 0 0 0;\n",
              "      width: 32px;\n",
              "    }\n",
              "\n",
              "    .colab-df-convert:hover {\n",
              "      background-color: #E2EBFA;\n",
              "      box-shadow: 0px 1px 2px rgba(60, 64, 67, 0.3), 0px 1px 3px 1px rgba(60, 64, 67, 0.15);\n",
              "      fill: #174EA6;\n",
              "    }\n",
              "\n",
              "    [theme=dark] .colab-df-convert {\n",
              "      background-color: #3B4455;\n",
              "      fill: #D2E3FC;\n",
              "    }\n",
              "\n",
              "    [theme=dark] .colab-df-convert:hover {\n",
              "      background-color: #434B5C;\n",
              "      box-shadow: 0px 1px 3px 1px rgba(0, 0, 0, 0.15);\n",
              "      filter: drop-shadow(0px 1px 2px rgba(0, 0, 0, 0.3));\n",
              "      fill: #FFFFFF;\n",
              "    }\n",
              "  </style>\n",
              "\n",
              "      <script>\n",
              "        const buttonEl =\n",
              "          document.querySelector('#df-339f19f3-0054-40e1-9dfd-5c649236643e button.colab-df-convert');\n",
              "        buttonEl.style.display =\n",
              "          google.colab.kernel.accessAllowed ? 'block' : 'none';\n",
              "\n",
              "        async function convertToInteractive(key) {\n",
              "          const element = document.querySelector('#df-339f19f3-0054-40e1-9dfd-5c649236643e');\n",
              "          const dataTable =\n",
              "            await google.colab.kernel.invokeFunction('convertToInteractive',\n",
              "                                                     [key], {});\n",
              "          if (!dataTable) return;\n",
              "\n",
              "          const docLinkHtml = 'Like what you see? Visit the ' +\n",
              "            '<a target=\"_blank\" href=https://colab.research.google.com/notebooks/data_table.ipynb>data table notebook</a>'\n",
              "            + ' to learn more about interactive tables.';\n",
              "          element.innerHTML = '';\n",
              "          dataTable['output_type'] = 'display_data';\n",
              "          await google.colab.output.renderOutput(dataTable, element);\n",
              "          const docLink = document.createElement('div');\n",
              "          docLink.innerHTML = docLinkHtml;\n",
              "          element.appendChild(docLink);\n",
              "        }\n",
              "      </script>\n",
              "    </div>\n",
              "  </div>\n",
              "  "
            ]
          },
          "metadata": {},
          "execution_count": 229
        }
      ],
      "source": [
        "x_train"
      ]
    },
    {
      "cell_type": "code",
      "execution_count": null,
      "metadata": {
        "colab": {
          "base_uri": "https://localhost:8080/"
        },
        "id": "kDkzYE_6oKXB",
        "outputId": "dccd6bfa-6d64-4dbf-f356-eb891aa6e44b"
      },
      "outputs": [
        {
          "output_type": "execute_result",
          "data": {
            "text/plain": [
              "(3771, 4)"
            ]
          },
          "metadata": {},
          "execution_count": 230
        }
      ],
      "source": [
        "x_train.shape"
      ]
    },
    {
      "cell_type": "code",
      "execution_count": null,
      "metadata": {
        "colab": {
          "base_uri": "https://localhost:8080/"
        },
        "id": "VY7tChYEoOFl",
        "outputId": "9a96cc2a-5637-40aa-f194-3e8b824d7999"
      },
      "outputs": [
        {
          "output_type": "execute_result",
          "data": {
            "text/plain": [
              "(3771,)"
            ]
          },
          "metadata": {},
          "execution_count": 231
        }
      ],
      "source": [
        "y_train.shape"
      ]
    },
    {
      "cell_type": "code",
      "source": [
        "x_test.shape"
      ],
      "metadata": {
        "colab": {
          "base_uri": "https://localhost:8080/"
        },
        "id": "Wxa2Ep8Zl-RW",
        "outputId": "2d6aa5be-5ceb-4f14-b38e-b8dac0ebe9ea"
      },
      "execution_count": null,
      "outputs": [
        {
          "output_type": "execute_result",
          "data": {
            "text/plain": [
              "(1258, 4)"
            ]
          },
          "metadata": {},
          "execution_count": 232
        }
      ]
    },
    {
      "cell_type": "code",
      "source": [
        "y_test.shape"
      ],
      "metadata": {
        "colab": {
          "base_uri": "https://localhost:8080/"
        },
        "id": "fwKSzp9KL6DX",
        "outputId": "950185e8-acd4-42af-9f93-9d26af71c9a7"
      },
      "execution_count": null,
      "outputs": [
        {
          "output_type": "execute_result",
          "data": {
            "text/plain": [
              "(1258,)"
            ]
          },
          "metadata": {},
          "execution_count": 233
        }
      ]
    },
    {
      "cell_type": "code",
      "execution_count": null,
      "metadata": {
        "id": "eOaoh5tX32-N"
      },
      "outputs": [],
      "source": [
        "y_pred=modelr.predict(x_test)"
      ]
    },
    {
      "cell_type": "code",
      "execution_count": null,
      "metadata": {
        "colab": {
          "base_uri": "https://localhost:8080/"
        },
        "id": "R7OaspTloXFX",
        "outputId": "8e0f3b22-73b3-474b-8344-27bb883cf17f"
      },
      "outputs": [
        {
          "output_type": "execute_result",
          "data": {
            "text/plain": [
              "0.998402129565986"
            ]
          },
          "metadata": {},
          "execution_count": 235
        }
      ],
      "source": [
        "from sklearn.metrics import r2_score\n",
        "r2_score(y_pred,y_test)"
      ]
    },
    {
      "cell_type": "code",
      "execution_count": null,
      "metadata": {
        "colab": {
          "base_uri": "https://localhost:8080/",
          "height": 423
        },
        "id": "LPNJL06jAp9G",
        "outputId": "9cc13778-e682-4c3b-d6cf-b53983fa3f21"
      },
      "outputs": [
        {
          "output_type": "execute_result",
          "data": {
            "text/plain": [
              "              Date    Open    High     Low  Close*    Volume\n",
              "0     Jul 01, 2022  106.01  109.34  104.56  108.43  305338.0\n",
              "1     Jun 30, 2022  109.70  110.45  105.10  105.76  362890.0\n",
              "2     Jun 29, 2022  111.86  114.05  109.22  109.78  322060.0\n",
              "3     Jun 28, 2022  110.18  112.22  109.62  111.76  306748.0\n",
              "4     Jun 27, 2022  107.22  110.54  105.60  109.57  282914.0\n",
              "...            ...     ...     ...     ...     ...       ...\n",
              "5024  Jul 09, 2002   25.87   26.20   25.73   26.09   84852.0\n",
              "5025  Jul 08, 2002   26.25   26.86   25.90   26.07   75606.0\n",
              "5026  Jul 03, 2002   26.68   26.95   26.38   26.80   62869.0\n",
              "5027  Jul 02, 2002   27.00   27.15   26.63   26.77   64641.0\n",
              "5028  Jul 01, 2002   26.80   27.15   26.61   26.81   43853.0\n",
              "\n",
              "[5029 rows x 6 columns]"
            ],
            "text/html": [
              "\n",
              "  <div id=\"df-70ffb59b-b521-4388-a3e8-a1c0b75a0f8b\">\n",
              "    <div class=\"colab-df-container\">\n",
              "      <div>\n",
              "<style scoped>\n",
              "    .dataframe tbody tr th:only-of-type {\n",
              "        vertical-align: middle;\n",
              "    }\n",
              "\n",
              "    .dataframe tbody tr th {\n",
              "        vertical-align: top;\n",
              "    }\n",
              "\n",
              "    .dataframe thead th {\n",
              "        text-align: right;\n",
              "    }\n",
              "</style>\n",
              "<table border=\"1\" class=\"dataframe\">\n",
              "  <thead>\n",
              "    <tr style=\"text-align: right;\">\n",
              "      <th></th>\n",
              "      <th>Date</th>\n",
              "      <th>Open</th>\n",
              "      <th>High</th>\n",
              "      <th>Low</th>\n",
              "      <th>Close*</th>\n",
              "      <th>Volume</th>\n",
              "    </tr>\n",
              "  </thead>\n",
              "  <tbody>\n",
              "    <tr>\n",
              "      <th>0</th>\n",
              "      <td>Jul 01, 2022</td>\n",
              "      <td>106.01</td>\n",
              "      <td>109.34</td>\n",
              "      <td>104.56</td>\n",
              "      <td>108.43</td>\n",
              "      <td>305338.0</td>\n",
              "    </tr>\n",
              "    <tr>\n",
              "      <th>1</th>\n",
              "      <td>Jun 30, 2022</td>\n",
              "      <td>109.70</td>\n",
              "      <td>110.45</td>\n",
              "      <td>105.10</td>\n",
              "      <td>105.76</td>\n",
              "      <td>362890.0</td>\n",
              "    </tr>\n",
              "    <tr>\n",
              "      <th>2</th>\n",
              "      <td>Jun 29, 2022</td>\n",
              "      <td>111.86</td>\n",
              "      <td>114.05</td>\n",
              "      <td>109.22</td>\n",
              "      <td>109.78</td>\n",
              "      <td>322060.0</td>\n",
              "    </tr>\n",
              "    <tr>\n",
              "      <th>3</th>\n",
              "      <td>Jun 28, 2022</td>\n",
              "      <td>110.18</td>\n",
              "      <td>112.22</td>\n",
              "      <td>109.62</td>\n",
              "      <td>111.76</td>\n",
              "      <td>306748.0</td>\n",
              "    </tr>\n",
              "    <tr>\n",
              "      <th>4</th>\n",
              "      <td>Jun 27, 2022</td>\n",
              "      <td>107.22</td>\n",
              "      <td>110.54</td>\n",
              "      <td>105.60</td>\n",
              "      <td>109.57</td>\n",
              "      <td>282914.0</td>\n",
              "    </tr>\n",
              "    <tr>\n",
              "      <th>...</th>\n",
              "      <td>...</td>\n",
              "      <td>...</td>\n",
              "      <td>...</td>\n",
              "      <td>...</td>\n",
              "      <td>...</td>\n",
              "      <td>...</td>\n",
              "    </tr>\n",
              "    <tr>\n",
              "      <th>5024</th>\n",
              "      <td>Jul 09, 2002</td>\n",
              "      <td>25.87</td>\n",
              "      <td>26.20</td>\n",
              "      <td>25.73</td>\n",
              "      <td>26.09</td>\n",
              "      <td>84852.0</td>\n",
              "    </tr>\n",
              "    <tr>\n",
              "      <th>5025</th>\n",
              "      <td>Jul 08, 2002</td>\n",
              "      <td>26.25</td>\n",
              "      <td>26.86</td>\n",
              "      <td>25.90</td>\n",
              "      <td>26.07</td>\n",
              "      <td>75606.0</td>\n",
              "    </tr>\n",
              "    <tr>\n",
              "      <th>5026</th>\n",
              "      <td>Jul 03, 2002</td>\n",
              "      <td>26.68</td>\n",
              "      <td>26.95</td>\n",
              "      <td>26.38</td>\n",
              "      <td>26.80</td>\n",
              "      <td>62869.0</td>\n",
              "    </tr>\n",
              "    <tr>\n",
              "      <th>5027</th>\n",
              "      <td>Jul 02, 2002</td>\n",
              "      <td>27.00</td>\n",
              "      <td>27.15</td>\n",
              "      <td>26.63</td>\n",
              "      <td>26.77</td>\n",
              "      <td>64641.0</td>\n",
              "    </tr>\n",
              "    <tr>\n",
              "      <th>5028</th>\n",
              "      <td>Jul 01, 2002</td>\n",
              "      <td>26.80</td>\n",
              "      <td>27.15</td>\n",
              "      <td>26.61</td>\n",
              "      <td>26.81</td>\n",
              "      <td>43853.0</td>\n",
              "    </tr>\n",
              "  </tbody>\n",
              "</table>\n",
              "<p>5029 rows × 6 columns</p>\n",
              "</div>\n",
              "      <button class=\"colab-df-convert\" onclick=\"convertToInteractive('df-70ffb59b-b521-4388-a3e8-a1c0b75a0f8b')\"\n",
              "              title=\"Convert this dataframe to an interactive table.\"\n",
              "              style=\"display:none;\">\n",
              "        \n",
              "  <svg xmlns=\"http://www.w3.org/2000/svg\" height=\"24px\"viewBox=\"0 0 24 24\"\n",
              "       width=\"24px\">\n",
              "    <path d=\"M0 0h24v24H0V0z\" fill=\"none\"/>\n",
              "    <path d=\"M18.56 5.44l.94 2.06.94-2.06 2.06-.94-2.06-.94-.94-2.06-.94 2.06-2.06.94zm-11 1L8.5 8.5l.94-2.06 2.06-.94-2.06-.94L8.5 2.5l-.94 2.06-2.06.94zm10 10l.94 2.06.94-2.06 2.06-.94-2.06-.94-.94-2.06-.94 2.06-2.06.94z\"/><path d=\"M17.41 7.96l-1.37-1.37c-.4-.4-.92-.59-1.43-.59-.52 0-1.04.2-1.43.59L10.3 9.45l-7.72 7.72c-.78.78-.78 2.05 0 2.83L4 21.41c.39.39.9.59 1.41.59.51 0 1.02-.2 1.41-.59l7.78-7.78 2.81-2.81c.8-.78.8-2.07 0-2.86zM5.41 20L4 18.59l7.72-7.72 1.47 1.35L5.41 20z\"/>\n",
              "  </svg>\n",
              "      </button>\n",
              "      \n",
              "  <style>\n",
              "    .colab-df-container {\n",
              "      display:flex;\n",
              "      flex-wrap:wrap;\n",
              "      gap: 12px;\n",
              "    }\n",
              "\n",
              "    .colab-df-convert {\n",
              "      background-color: #E8F0FE;\n",
              "      border: none;\n",
              "      border-radius: 50%;\n",
              "      cursor: pointer;\n",
              "      display: none;\n",
              "      fill: #1967D2;\n",
              "      height: 32px;\n",
              "      padding: 0 0 0 0;\n",
              "      width: 32px;\n",
              "    }\n",
              "\n",
              "    .colab-df-convert:hover {\n",
              "      background-color: #E2EBFA;\n",
              "      box-shadow: 0px 1px 2px rgba(60, 64, 67, 0.3), 0px 1px 3px 1px rgba(60, 64, 67, 0.15);\n",
              "      fill: #174EA6;\n",
              "    }\n",
              "\n",
              "    [theme=dark] .colab-df-convert {\n",
              "      background-color: #3B4455;\n",
              "      fill: #D2E3FC;\n",
              "    }\n",
              "\n",
              "    [theme=dark] .colab-df-convert:hover {\n",
              "      background-color: #434B5C;\n",
              "      box-shadow: 0px 1px 3px 1px rgba(0, 0, 0, 0.15);\n",
              "      filter: drop-shadow(0px 1px 2px rgba(0, 0, 0, 0.3));\n",
              "      fill: #FFFFFF;\n",
              "    }\n",
              "  </style>\n",
              "\n",
              "      <script>\n",
              "        const buttonEl =\n",
              "          document.querySelector('#df-70ffb59b-b521-4388-a3e8-a1c0b75a0f8b button.colab-df-convert');\n",
              "        buttonEl.style.display =\n",
              "          google.colab.kernel.accessAllowed ? 'block' : 'none';\n",
              "\n",
              "        async function convertToInteractive(key) {\n",
              "          const element = document.querySelector('#df-70ffb59b-b521-4388-a3e8-a1c0b75a0f8b');\n",
              "          const dataTable =\n",
              "            await google.colab.kernel.invokeFunction('convertToInteractive',\n",
              "                                                     [key], {});\n",
              "          if (!dataTable) return;\n",
              "\n",
              "          const docLinkHtml = 'Like what you see? Visit the ' +\n",
              "            '<a target=\"_blank\" href=https://colab.research.google.com/notebooks/data_table.ipynb>data table notebook</a>'\n",
              "            + ' to learn more about interactive tables.';\n",
              "          element.innerHTML = '';\n",
              "          dataTable['output_type'] = 'display_data';\n",
              "          await google.colab.output.renderOutput(dataTable, element);\n",
              "          const docLink = document.createElement('div');\n",
              "          docLink.innerHTML = docLinkHtml;\n",
              "          element.appendChild(docLink);\n",
              "        }\n",
              "      </script>\n",
              "    </div>\n",
              "  </div>\n",
              "  "
            ]
          },
          "metadata": {},
          "execution_count": 236
        }
      ],
      "source": [
        "df"
      ]
    },
    {
      "cell_type": "code",
      "execution_count": 286,
      "metadata": {
        "colab": {
          "base_uri": "https://localhost:8080/"
        },
        "id": "2KLvVTvJqjDi",
        "outputId": "99b3015f-e900-4820-810e-5f1568331223"
      },
      "outputs": [
        {
          "output_type": "stream",
          "name": "stderr",
          "text": [
            "/usr/local/lib/python3.7/dist-packages/sklearn/base.py:451: UserWarning: X does not have valid feature names, but RandomForestRegressor was fitted with feature names\n",
            "  \"X does not have valid feature names, but\"\n"
          ]
        },
        {
          "output_type": "execute_result",
          "data": {
            "text/plain": [
              "array([109.0577])"
            ]
          },
          "metadata": {},
          "execution_count": 286
        }
      ],
      "source": [
        "modelr.predict([[107.22,110.54,105.60,282914.0]]) # 27 june 2022"
      ]
    },
    {
      "cell_type": "code",
      "execution_count": 287,
      "metadata": {
        "colab": {
          "base_uri": "https://localhost:8080/"
        },
        "id": "IjL9PMPHrbOX",
        "outputId": "c28584ba-6c6e-4c4d-920b-31ffbf17b347"
      },
      "outputs": [
        {
          "output_type": "stream",
          "name": "stderr",
          "text": [
            "/usr/local/lib/python3.7/dist-packages/sklearn/base.py:451: UserWarning: X does not have valid feature names, but RandomForestRegressor was fitted with feature names\n",
            "  \"X does not have valid feature names, but\"\n"
          ]
        },
        {
          "output_type": "execute_result",
          "data": {
            "text/plain": [
              "array([108.3086])"
            ]
          },
          "metadata": {},
          "execution_count": 287
        }
      ],
      "source": [
        "modelr.predict([[106.01,109.34,104.56,305338]]) # 01 july 2022"
      ]
    },
    {
      "cell_type": "code",
      "execution_count": 288,
      "metadata": {
        "colab": {
          "base_uri": "https://localhost:8080/"
        },
        "id": "ORY_PKS7rxPw",
        "outputId": "69d0eb79-0c76-4f98-b2b5-c08f01455c3f"
      },
      "outputs": [
        {
          "output_type": "stream",
          "name": "stderr",
          "text": [
            "/usr/local/lib/python3.7/dist-packages/sklearn/base.py:451: UserWarning: X does not have valid feature names, but RandomForestRegressor was fitted with feature names\n",
            "  \"X does not have valid feature names, but\"\n"
          ]
        },
        {
          "output_type": "execute_result",
          "data": {
            "text/plain": [
              "array([26.0262])"
            ]
          },
          "metadata": {},
          "execution_count": 288
        }
      ],
      "source": [
        "modelr.predict([[25.87,26.20,25.73,84852.0]]) #09 july 2002"
      ]
    },
    {
      "cell_type": "code",
      "execution_count": 289,
      "metadata": {
        "colab": {
          "base_uri": "https://localhost:8080/"
        },
        "id": "YrqdDKYZAPFN",
        "outputId": "b55a2ea8-1623-4816-add7-d91013878bf3"
      },
      "outputs": [
        {
          "output_type": "stream",
          "name": "stderr",
          "text": [
            "/usr/local/lib/python3.7/dist-packages/sklearn/base.py:451: UserWarning: X does not have valid feature names, but RandomForestRegressor was fitted with feature names\n",
            "  \"X does not have valid feature names, but\"\n"
          ]
        },
        {
          "output_type": "execute_result",
          "data": {
            "text/plain": [
              "array([78.9672])"
            ]
          },
          "metadata": {},
          "execution_count": 289
        }
      ],
      "source": [
        "modelr.predict([[83.54,83.92,78.04,334271]]) # 23 september 2022(untrained)"
      ]
    },
    {
      "cell_type": "code",
      "execution_count": 290,
      "metadata": {
        "id": "90wCmP0X1CLn",
        "colab": {
          "base_uri": "https://localhost:8080/"
        },
        "outputId": "d2c0e625-1097-4c0e-a639-2a0d407d2965"
      },
      "outputs": [
        {
          "output_type": "stream",
          "name": "stderr",
          "text": [
            "/usr/local/lib/python3.7/dist-packages/sklearn/base.py:451: UserWarning: X does not have valid feature names, but RandomForestRegressor was fitted with feature names\n",
            "  \"X does not have valid feature names, but\"\n"
          ]
        },
        {
          "output_type": "execute_result",
          "data": {
            "text/plain": [
              "array([89.6998])"
            ]
          },
          "metadata": {},
          "execution_count": 290
        }
      ],
      "source": [
        "modelr.predict([[92.31,92.73,88.27,344147]]) # 31 august 2022 (untrained)"
      ]
    },
    {
      "cell_type": "markdown",
      "metadata": {
        "id": "JbowRHUps5qq"
      },
      "source": [
        "making model with multiple linear regression"
      ]
    },
    {
      "cell_type": "code",
      "execution_count": null,
      "metadata": {
        "id": "qeiyKrZW1C9v"
      },
      "outputs": [],
      "source": [
        "from sklearn.model_selection import train_test_split\n",
        "x_train,x_test,y_train,y_test=train_test_split(x_train,y_train)"
      ]
    },
    {
      "cell_type": "code",
      "execution_count": null,
      "metadata": {
        "id": "9hwkg_9as9PL"
      },
      "outputs": [],
      "source": [
        "from sklearn.linear_model import LinearRegression\n",
        "model = LinearRegression()\n",
        "modelm= model.fit(x_train,y_train)"
      ]
    },
    {
      "cell_type": "code",
      "execution_count": null,
      "metadata": {
        "id": "OnIh7Bvc1PWu"
      },
      "outputs": [],
      "source": [
        "y_pred = modelm.predict(x_test)"
      ]
    },
    {
      "cell_type": "code",
      "execution_count": null,
      "metadata": {
        "colab": {
          "base_uri": "https://localhost:8080/"
        },
        "id": "UDV0C8DC1l76",
        "outputId": "56d49944-03e4-4d17-9f7a-051f2442aa6b"
      },
      "outputs": [
        {
          "output_type": "execute_result",
          "data": {
            "text/plain": [
              "(943,)"
            ]
          },
          "metadata": {},
          "execution_count": 244
        }
      ],
      "source": [
        "y_pred.shape"
      ]
    },
    {
      "cell_type": "code",
      "execution_count": null,
      "metadata": {
        "colab": {
          "base_uri": "https://localhost:8080/"
        },
        "id": "bXt5RT4u1PR3",
        "outputId": "94f5e13d-7377-4784-be43-ee948e5a2683"
      },
      "outputs": [
        {
          "output_type": "execute_result",
          "data": {
            "text/plain": [
              "(943,)"
            ]
          },
          "metadata": {},
          "execution_count": 245
        }
      ],
      "source": [
        "y_test.shape"
      ]
    },
    {
      "cell_type": "code",
      "execution_count": null,
      "metadata": {
        "colab": {
          "base_uri": "https://localhost:8080/"
        },
        "id": "8Z2g0ErFy88v",
        "outputId": "817a3083-3536-44a4-d511-df6d438c963e"
      },
      "outputs": [
        {
          "output_type": "execute_result",
          "data": {
            "text/plain": [
              "0.9995193247064162"
            ]
          },
          "metadata": {},
          "execution_count": 246
        }
      ],
      "source": [
        "from sklearn.metrics import r2_score\n",
        "r2_score(y_pred,y_test)"
      ]
    },
    {
      "cell_type": "code",
      "execution_count": null,
      "metadata": {
        "colab": {
          "base_uri": "https://localhost:8080/",
          "height": 423
        },
        "id": "h_J0exlZ415-",
        "outputId": "224410a1-ed67-427e-8625-6fca32c9299d"
      },
      "outputs": [
        {
          "output_type": "execute_result",
          "data": {
            "text/plain": [
              "              Date    Open    High     Low  Close*    Volume\n",
              "0     Jul 01, 2022  106.01  109.34  104.56  108.43  305338.0\n",
              "1     Jun 30, 2022  109.70  110.45  105.10  105.76  362890.0\n",
              "2     Jun 29, 2022  111.86  114.05  109.22  109.78  322060.0\n",
              "3     Jun 28, 2022  110.18  112.22  109.62  111.76  306748.0\n",
              "4     Jun 27, 2022  107.22  110.54  105.60  109.57  282914.0\n",
              "...            ...     ...     ...     ...     ...       ...\n",
              "5024  Jul 09, 2002   25.87   26.20   25.73   26.09   84852.0\n",
              "5025  Jul 08, 2002   26.25   26.86   25.90   26.07   75606.0\n",
              "5026  Jul 03, 2002   26.68   26.95   26.38   26.80   62869.0\n",
              "5027  Jul 02, 2002   27.00   27.15   26.63   26.77   64641.0\n",
              "5028  Jul 01, 2002   26.80   27.15   26.61   26.81   43853.0\n",
              "\n",
              "[5029 rows x 6 columns]"
            ],
            "text/html": [
              "\n",
              "  <div id=\"df-639df84a-07da-4465-aea1-813b3f4e825d\">\n",
              "    <div class=\"colab-df-container\">\n",
              "      <div>\n",
              "<style scoped>\n",
              "    .dataframe tbody tr th:only-of-type {\n",
              "        vertical-align: middle;\n",
              "    }\n",
              "\n",
              "    .dataframe tbody tr th {\n",
              "        vertical-align: top;\n",
              "    }\n",
              "\n",
              "    .dataframe thead th {\n",
              "        text-align: right;\n",
              "    }\n",
              "</style>\n",
              "<table border=\"1\" class=\"dataframe\">\n",
              "  <thead>\n",
              "    <tr style=\"text-align: right;\">\n",
              "      <th></th>\n",
              "      <th>Date</th>\n",
              "      <th>Open</th>\n",
              "      <th>High</th>\n",
              "      <th>Low</th>\n",
              "      <th>Close*</th>\n",
              "      <th>Volume</th>\n",
              "    </tr>\n",
              "  </thead>\n",
              "  <tbody>\n",
              "    <tr>\n",
              "      <th>0</th>\n",
              "      <td>Jul 01, 2022</td>\n",
              "      <td>106.01</td>\n",
              "      <td>109.34</td>\n",
              "      <td>104.56</td>\n",
              "      <td>108.43</td>\n",
              "      <td>305338.0</td>\n",
              "    </tr>\n",
              "    <tr>\n",
              "      <th>1</th>\n",
              "      <td>Jun 30, 2022</td>\n",
              "      <td>109.70</td>\n",
              "      <td>110.45</td>\n",
              "      <td>105.10</td>\n",
              "      <td>105.76</td>\n",
              "      <td>362890.0</td>\n",
              "    </tr>\n",
              "    <tr>\n",
              "      <th>2</th>\n",
              "      <td>Jun 29, 2022</td>\n",
              "      <td>111.86</td>\n",
              "      <td>114.05</td>\n",
              "      <td>109.22</td>\n",
              "      <td>109.78</td>\n",
              "      <td>322060.0</td>\n",
              "    </tr>\n",
              "    <tr>\n",
              "      <th>3</th>\n",
              "      <td>Jun 28, 2022</td>\n",
              "      <td>110.18</td>\n",
              "      <td>112.22</td>\n",
              "      <td>109.62</td>\n",
              "      <td>111.76</td>\n",
              "      <td>306748.0</td>\n",
              "    </tr>\n",
              "    <tr>\n",
              "      <th>4</th>\n",
              "      <td>Jun 27, 2022</td>\n",
              "      <td>107.22</td>\n",
              "      <td>110.54</td>\n",
              "      <td>105.60</td>\n",
              "      <td>109.57</td>\n",
              "      <td>282914.0</td>\n",
              "    </tr>\n",
              "    <tr>\n",
              "      <th>...</th>\n",
              "      <td>...</td>\n",
              "      <td>...</td>\n",
              "      <td>...</td>\n",
              "      <td>...</td>\n",
              "      <td>...</td>\n",
              "      <td>...</td>\n",
              "    </tr>\n",
              "    <tr>\n",
              "      <th>5024</th>\n",
              "      <td>Jul 09, 2002</td>\n",
              "      <td>25.87</td>\n",
              "      <td>26.20</td>\n",
              "      <td>25.73</td>\n",
              "      <td>26.09</td>\n",
              "      <td>84852.0</td>\n",
              "    </tr>\n",
              "    <tr>\n",
              "      <th>5025</th>\n",
              "      <td>Jul 08, 2002</td>\n",
              "      <td>26.25</td>\n",
              "      <td>26.86</td>\n",
              "      <td>25.90</td>\n",
              "      <td>26.07</td>\n",
              "      <td>75606.0</td>\n",
              "    </tr>\n",
              "    <tr>\n",
              "      <th>5026</th>\n",
              "      <td>Jul 03, 2002</td>\n",
              "      <td>26.68</td>\n",
              "      <td>26.95</td>\n",
              "      <td>26.38</td>\n",
              "      <td>26.80</td>\n",
              "      <td>62869.0</td>\n",
              "    </tr>\n",
              "    <tr>\n",
              "      <th>5027</th>\n",
              "      <td>Jul 02, 2002</td>\n",
              "      <td>27.00</td>\n",
              "      <td>27.15</td>\n",
              "      <td>26.63</td>\n",
              "      <td>26.77</td>\n",
              "      <td>64641.0</td>\n",
              "    </tr>\n",
              "    <tr>\n",
              "      <th>5028</th>\n",
              "      <td>Jul 01, 2002</td>\n",
              "      <td>26.80</td>\n",
              "      <td>27.15</td>\n",
              "      <td>26.61</td>\n",
              "      <td>26.81</td>\n",
              "      <td>43853.0</td>\n",
              "    </tr>\n",
              "  </tbody>\n",
              "</table>\n",
              "<p>5029 rows × 6 columns</p>\n",
              "</div>\n",
              "      <button class=\"colab-df-convert\" onclick=\"convertToInteractive('df-639df84a-07da-4465-aea1-813b3f4e825d')\"\n",
              "              title=\"Convert this dataframe to an interactive table.\"\n",
              "              style=\"display:none;\">\n",
              "        \n",
              "  <svg xmlns=\"http://www.w3.org/2000/svg\" height=\"24px\"viewBox=\"0 0 24 24\"\n",
              "       width=\"24px\">\n",
              "    <path d=\"M0 0h24v24H0V0z\" fill=\"none\"/>\n",
              "    <path d=\"M18.56 5.44l.94 2.06.94-2.06 2.06-.94-2.06-.94-.94-2.06-.94 2.06-2.06.94zm-11 1L8.5 8.5l.94-2.06 2.06-.94-2.06-.94L8.5 2.5l-.94 2.06-2.06.94zm10 10l.94 2.06.94-2.06 2.06-.94-2.06-.94-.94-2.06-.94 2.06-2.06.94z\"/><path d=\"M17.41 7.96l-1.37-1.37c-.4-.4-.92-.59-1.43-.59-.52 0-1.04.2-1.43.59L10.3 9.45l-7.72 7.72c-.78.78-.78 2.05 0 2.83L4 21.41c.39.39.9.59 1.41.59.51 0 1.02-.2 1.41-.59l7.78-7.78 2.81-2.81c.8-.78.8-2.07 0-2.86zM5.41 20L4 18.59l7.72-7.72 1.47 1.35L5.41 20z\"/>\n",
              "  </svg>\n",
              "      </button>\n",
              "      \n",
              "  <style>\n",
              "    .colab-df-container {\n",
              "      display:flex;\n",
              "      flex-wrap:wrap;\n",
              "      gap: 12px;\n",
              "    }\n",
              "\n",
              "    .colab-df-convert {\n",
              "      background-color: #E8F0FE;\n",
              "      border: none;\n",
              "      border-radius: 50%;\n",
              "      cursor: pointer;\n",
              "      display: none;\n",
              "      fill: #1967D2;\n",
              "      height: 32px;\n",
              "      padding: 0 0 0 0;\n",
              "      width: 32px;\n",
              "    }\n",
              "\n",
              "    .colab-df-convert:hover {\n",
              "      background-color: #E2EBFA;\n",
              "      box-shadow: 0px 1px 2px rgba(60, 64, 67, 0.3), 0px 1px 3px 1px rgba(60, 64, 67, 0.15);\n",
              "      fill: #174EA6;\n",
              "    }\n",
              "\n",
              "    [theme=dark] .colab-df-convert {\n",
              "      background-color: #3B4455;\n",
              "      fill: #D2E3FC;\n",
              "    }\n",
              "\n",
              "    [theme=dark] .colab-df-convert:hover {\n",
              "      background-color: #434B5C;\n",
              "      box-shadow: 0px 1px 3px 1px rgba(0, 0, 0, 0.15);\n",
              "      filter: drop-shadow(0px 1px 2px rgba(0, 0, 0, 0.3));\n",
              "      fill: #FFFFFF;\n",
              "    }\n",
              "  </style>\n",
              "\n",
              "      <script>\n",
              "        const buttonEl =\n",
              "          document.querySelector('#df-639df84a-07da-4465-aea1-813b3f4e825d button.colab-df-convert');\n",
              "        buttonEl.style.display =\n",
              "          google.colab.kernel.accessAllowed ? 'block' : 'none';\n",
              "\n",
              "        async function convertToInteractive(key) {\n",
              "          const element = document.querySelector('#df-639df84a-07da-4465-aea1-813b3f4e825d');\n",
              "          const dataTable =\n",
              "            await google.colab.kernel.invokeFunction('convertToInteractive',\n",
              "                                                     [key], {});\n",
              "          if (!dataTable) return;\n",
              "\n",
              "          const docLinkHtml = 'Like what you see? Visit the ' +\n",
              "            '<a target=\"_blank\" href=https://colab.research.google.com/notebooks/data_table.ipynb>data table notebook</a>'\n",
              "            + ' to learn more about interactive tables.';\n",
              "          element.innerHTML = '';\n",
              "          dataTable['output_type'] = 'display_data';\n",
              "          await google.colab.output.renderOutput(dataTable, element);\n",
              "          const docLink = document.createElement('div');\n",
              "          docLink.innerHTML = docLinkHtml;\n",
              "          element.appendChild(docLink);\n",
              "        }\n",
              "      </script>\n",
              "    </div>\n",
              "  </div>\n",
              "  "
            ]
          },
          "metadata": {},
          "execution_count": 248
        }
      ],
      "source": [
        "df"
      ]
    },
    {
      "cell_type": "code",
      "execution_count": 293,
      "metadata": {
        "colab": {
          "base_uri": "https://localhost:8080/"
        },
        "id": "7s4bV1v-46Gv",
        "outputId": "87cef16b-51cf-4f8a-f310-6ed88bb25b94"
      },
      "outputs": [
        {
          "output_type": "stream",
          "name": "stderr",
          "text": [
            "/usr/local/lib/python3.7/dist-packages/sklearn/base.py:451: UserWarning: X does not have valid feature names, but LinearRegression was fitted with feature names\n",
            "  \"X does not have valid feature names, but\"\n"
          ]
        },
        {
          "output_type": "execute_result",
          "data": {
            "text/plain": [
              "array([108.54149527])"
            ]
          },
          "metadata": {},
          "execution_count": 293
        }
      ],
      "source": [
        "modelm.predict([[107.22,110.54,105.60,282914.0]]) # 27 june 2022\n"
      ]
    },
    {
      "cell_type": "code",
      "execution_count": 294,
      "metadata": {
        "colab": {
          "base_uri": "https://localhost:8080/"
        },
        "id": "ewKkABkX7DaQ",
        "outputId": "52687610-9138-49d5-90c4-a603ae66a42a"
      },
      "outputs": [
        {
          "output_type": "stream",
          "name": "stderr",
          "text": [
            "/usr/local/lib/python3.7/dist-packages/sklearn/base.py:451: UserWarning: X does not have valid feature names, but LinearRegression was fitted with feature names\n",
            "  \"X does not have valid feature names, but\"\n"
          ]
        },
        {
          "output_type": "execute_result",
          "data": {
            "text/plain": [
              "array([107.4880295])"
            ]
          },
          "metadata": {},
          "execution_count": 294
        }
      ],
      "source": [
        "modelm.predict([[106.01,109.34,104.56,305338]]) # 01 july 2022"
      ]
    },
    {
      "cell_type": "code",
      "execution_count": 295,
      "metadata": {
        "colab": {
          "base_uri": "https://localhost:8080/"
        },
        "id": "XfLr5jmO7Yy7",
        "outputId": "8d2b99e4-69c8-48a6-d9cc-d5b58e2cec80"
      },
      "outputs": [
        {
          "output_type": "stream",
          "name": "stderr",
          "text": [
            "/usr/local/lib/python3.7/dist-packages/sklearn/base.py:451: UserWarning: X does not have valid feature names, but LinearRegression was fitted with feature names\n",
            "  \"X does not have valid feature names, but\"\n"
          ]
        },
        {
          "output_type": "execute_result",
          "data": {
            "text/plain": [
              "array([26.08642345])"
            ]
          },
          "metadata": {},
          "execution_count": 295
        }
      ],
      "source": [
        "modelm.predict([[25.87,26.20,25.73,84852.0]]) #09 july 2002"
      ]
    },
    {
      "cell_type": "code",
      "source": [
        "modelm.predict([[83.54,83.92,78.04,334271]]) # 23 september 2022(untrained)"
      ],
      "metadata": {
        "colab": {
          "base_uri": "https://localhost:8080/"
        },
        "id": "pWoowdg4j0jk",
        "outputId": "d9115f61-41c0-45c9-9115-6bbb537e04f8"
      },
      "execution_count": 296,
      "outputs": [
        {
          "output_type": "stream",
          "name": "stderr",
          "text": [
            "/usr/local/lib/python3.7/dist-packages/sklearn/base.py:451: UserWarning: X does not have valid feature names, but LinearRegression was fitted with feature names\n",
            "  \"X does not have valid feature names, but\"\n"
          ]
        },
        {
          "output_type": "execute_result",
          "data": {
            "text/plain": [
              "array([79.14710876])"
            ]
          },
          "metadata": {},
          "execution_count": 296
        }
      ]
    },
    {
      "cell_type": "code",
      "execution_count": 298,
      "metadata": {
        "colab": {
          "base_uri": "https://localhost:8080/"
        },
        "id": "3ShECobIAHX3",
        "outputId": "0600c8cc-947a-4bc4-ab0c-90a9536d1dbc"
      },
      "outputs": [
        {
          "output_type": "stream",
          "name": "stderr",
          "text": [
            "/usr/local/lib/python3.7/dist-packages/sklearn/base.py:451: UserWarning: X does not have valid feature names, but LinearRegression was fitted with feature names\n",
            "  \"X does not have valid feature names, but\"\n"
          ]
        },
        {
          "output_type": "execute_result",
          "data": {
            "text/plain": [
              "array([89.29256939])"
            ]
          },
          "metadata": {},
          "execution_count": 298
        }
      ],
      "source": [
        "modelm.predict([[92.31,92.73,88.27,344147]]) # 31 august 2022 (untrained)"
      ]
    },
    {
      "cell_type": "markdown",
      "source": [
        "finding the range of minimum and maximum closing price of each year"
      ],
      "metadata": {
        "id": "jpx-mmToPd0_"
      }
    },
    {
      "cell_type": "code",
      "execution_count": null,
      "metadata": {
        "colab": {
          "base_uri": "https://localhost:8080/"
        },
        "id": "NPgrwStLwVL1",
        "outputId": "3280cc4f-a0d1-44c8-d23e-d01e9982fe27"
      },
      "outputs": [
        {
          "output_type": "stream",
          "name": "stdout",
          "text": [
            "{2002: (25.19, 32.72), 2003: (25.24, 37.83), 2004: (32.48, 55.17), 2005: (42.12, 69.81), 2006: (55.81, 77.03), 2007: (50.48, 98.18), 2008: (33.87, 145.29), 2009: (33.98, 81.37), 2010: (68.01, 91.51), 2011: (75.67, 113.93), 2012: (77.69, 109.77), 2013: (86.68, 110.53), 2014: (53.27, 107.26), 2015: (34.73, 61.43), 2016: (26.21, 54.06), 2017: (42.53, 60.42), 2018: (42.53, 76.41), 2019: (46.54, 66.3), 2020: (-37.63, 63.27), 2021: (47.62, 84.65), 2022: (76.08, 123.7)}\n"
          ]
        }
      ],
      "source": [
        "\n",
        "year = {}\n",
        "for i in range(2002,2023):     \n",
        "      d = df[df['Date'].str.contains(str(i))]\n",
        "      year.setdefault(i,(d[\"Close*\"].min(),d[\"Close*\"].max()))\n",
        "print(year)\n"
      ]
    },
    {
      "cell_type": "markdown",
      "source": [
        "graph for the above data"
      ],
      "metadata": {
        "id": "Ft1G5OrzPmb7"
      }
    },
    {
      "cell_type": "code",
      "source": [
        "df=pd.DataFrame(year)"
      ],
      "metadata": {
        "id": "cHzHuKxoRJtC"
      },
      "execution_count": null,
      "outputs": []
    },
    {
      "cell_type": "code",
      "source": [
        "i=2002\n",
        "while(i<=2022):\n",
        "  plt.bar(i,df[i][0])\n",
        "  i+=1\n",
        "plt.title(\"minimum\")\n",
        "plt.show()"
      ],
      "metadata": {
        "colab": {
          "base_uri": "https://localhost:8080/",
          "height": 281
        },
        "id": "ovOCwiunQpA1",
        "outputId": "62be752a-0e5f-4402-c0a7-a71c44a9e424"
      },
      "execution_count": null,
      "outputs": [
        {
          "output_type": "display_data",
          "data": {
            "text/plain": [
              "<Figure size 432x288 with 1 Axes>"
            ],
            "image/png": "[encoded data removed]"
          },
          "metadata": {
            "needs_background": "light"
          }
        }
      ]
    },
    {
      "cell_type": "code",
      "source": [
        "i=2002\n",
        "while(i<=2022):\n",
        "  plt.bar(i,df[i][1])\n",
        "  i+=1\n",
        "plt.title(\"maximum\")\n",
        "plt.show()"
      ],
      "metadata": {
        "id": "ihGJAhEqQ_Cn",
        "colab": {
          "base_uri": "https://localhost:8080/",
          "height": 281
        },
        "outputId": "b5430430-e4bf-4f71-a92e-2d13d9907550"
      },
      "execution_count": null,
      "outputs": [
        {
          "output_type": "display_data",
          "data": {
            "text/plain": [
              "<Figure size 432x288 with 1 Axes>"
            ],
            "image/png": "[encoded data removed]"
          },
          "metadata": {
            "needs_background": "light"
          }
        }
      ]
    },
    {
      "cell_type": "code",
      "source": [],
      "metadata": {
        "id": "dmWX-IQaSbax"
      },
      "execution_count": null,
      "outputs": []
    },
    {
      "cell_type": "code",
      "source": [],
      "metadata": {
        "id": "AsO-8cWPTRDn"
      },
      "execution_count": null,
      "outputs": []
    }
  ],
  "metadata": {
    "colab": {
      "collapsed_sections": [],
      "provenance": []
    },
    "kernelspec": {
      "display_name": "Python 3",
      "name": "python3"
    },
    "language_info": {
      "name": "python"
    }
  },
  "nbformat": 4,
  "nbformat_minor": 0
}